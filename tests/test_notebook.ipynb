{
 "metadata": {
  "name": "",
  "signature": "sha256:8b6450e8a24f6815e7ccb7f39ed4de3c1f39ae55a97da2e031f28a5be5410ab3"
 },
 "nbformat": 3,
 "nbformat_minor": 0,
 "worksheets": [
  {
   "cells": [
    {
     "cell_type": "code",
     "collapsed": false,
     "input": [
      "#clear the widgets.\n",
      "Widget.objects.delete()"
     ],
     "language": "python",
     "metadata": {},
     "outputs": [],
     "prompt_number": 13
    },
    {
     "cell_type": "code",
     "collapsed": false,
     "input": [
      "a = Widget()\n",
      "a.name = \"Root Widget.\"\n",
      "a.save()\n",
      "\n",
      "b = Widget()\n",
      "b.name = \"Special!\"\n",
      "b.save()\n",
      "b.set_parent(a)\n",
      "b.set_ancestors()\n",
      "b.save()"
     ],
     "language": "python",
     "metadata": {},
     "outputs": [
      {
       "metadata": {},
       "output_type": "pyout",
       "prompt_number": 14,
       "text": [
        "<Widget: Widget object>"
       ]
      }
     ],
     "prompt_number": 14
    },
    {
     "cell_type": "code",
     "collapsed": false,
     "input": [
      "all_widgets = Widget.objects()\n",
      "[w for w in all_widgets]"
     ],
     "language": "python",
     "metadata": {},
     "outputs": [
      {
       "metadata": {},
       "output_type": "pyout",
       "prompt_number": 15,
       "text": [
        "[<Widget: Widget object>, <Widget: Widget object>]"
       ]
      }
     ],
     "prompt_number": 15
    },
    {
     "cell_type": "code",
     "collapsed": false,
     "input": [
      "c = Widget()\n",
      "c.name = \"another snowflake\"\n",
      "c.save()\n",
      "c.set_parent(b)\n",
      "c.set_ancestors()\n",
      "c.save()\n",
      "\n",
      "c.ancestors"
     ],
     "language": "python",
     "metadata": {},
     "outputs": [
      {
       "metadata": {},
       "output_type": "pyout",
       "prompt_number": 16,
       "text": [
        "[<Widget: Widget object>, <Widget: Widget object>]"
       ]
      }
     ],
     "prompt_number": 16
    },
    {
     "cell_type": "code",
     "collapsed": false,
     "input": [
      "%pdb 1\n",
      "\n",
      "from pprint import pprint\n",
      "from collections import OrderedDict\n",
      "\n",
      "import json\n",
      "    \n",
      "widget = Widget.objects()[2]\n",
      "\n",
      "from widgetapp.api import *\n",
      "serializer = WidgetSerializer()"
     ],
     "language": "python",
     "metadata": {},
     "outputs": [
      {
       "output_type": "stream",
       "stream": "stdout",
       "text": [
        "Automatic pdb calling has been turned ON\n"
       ]
      }
     ],
     "prompt_number": 1
    },
    {
     "cell_type": "code",
     "collapsed": false,
     "input": [
      "serializer.Meta.depth = 0\n",
      "output = serializer.to_representation(widget)\n",
      "print (json.dumps(output, indent=4))"
     ],
     "language": "python",
     "metadata": {},
     "outputs": [
      {
       "output_type": "stream",
       "stream": "stdout",
       "text": [
        "{\n",
        "    \"id\": \"54dbbafc7dafc71d3481ea9d\", \n",
        "    \"name\": \"Snowflake foobar.\", \n",
        "    \"description\": \"this is not a test.\", \n",
        "    \"parent\": \"54dbbafc7dafc71d3481ea9c\", \n",
        "    \"ancestors\": [\n",
        "        \"54dbbafc7dafc71d3481ea9c\", \n",
        "        \"54dbbafc7dafc71d3481ea9b\"\n",
        "    ], \n",
        "    \"relationships\": [\n",
        "        {\n",
        "            \"predicate\": \"whargarble\", \n",
        "            \"object_rel\": \"54dbbafc7dafc71d3481ea9c\", \n",
        "            \"subject_rel\": \"54dbbafc7dafc71d3481ea9d\"\n",
        "        }\n",
        "    ]\n",
        "}\n"
       ]
      }
     ],
     "prompt_number": 2
    },
    {
     "cell_type": "code",
     "collapsed": false,
     "input": [
      "#oprint(serializer.to_representation(widget))\n",
      "import ipdb\n",
      "\n",
      "def serializerrun():\n",
      "    serializer.to_representation(widget)\n",
      "\n",
      "ipdb.runcall(serializerrun)"
     ],
     "language": "python",
     "metadata": {},
     "outputs": [
      {
       "output_type": "stream",
       "stream": "stdout",
       "text": [
        "> \u001b[1;32m<ipython-input-3-b338b52b830f>\u001b[0m(5)\u001b[0;36mserializerrun\u001b[1;34m()\u001b[0m\n",
        "\u001b[1;32m      4 \u001b[1;33m\u001b[1;32mdef\u001b[0m \u001b[0mserializerrun\u001b[0m\u001b[1;33m(\u001b[0m\u001b[1;33m)\u001b[0m\u001b[1;33m:\u001b[0m\u001b[1;33m\u001b[0m\u001b[0m\n",
        "\u001b[0m\u001b[1;32m----> 5 \u001b[1;33m    \u001b[0mserializer\u001b[0m\u001b[1;33m.\u001b[0m\u001b[0mto_representation\u001b[0m\u001b[1;33m(\u001b[0m\u001b[0mwidget\u001b[0m\u001b[1;33m)\u001b[0m\u001b[1;33m\u001b[0m\u001b[0m\n",
        "\u001b[0m\u001b[1;32m      6 \u001b[1;33m\u001b[1;33m\u001b[0m\u001b[0m\n",
        "\u001b[0m\n"
       ]
      },
      {
       "name": "stdout",
       "output_type": "stream",
       "stream": "stdout",
       "text": [
        "ipdb> s\n"
       ]
      },
      {
       "output_type": "stream",
       "stream": "stdout",
       "text": [
        "--Call--\n",
        "> \u001b[1;32mc:\\users\\bake3\\workspace\\django-rest-framework-mongoengine\\rest_framework_mongoengine\\serializers.py\u001b[0m(333)\u001b[0;36mto_representation\u001b[1;34m()\u001b[0m\n",
        "\u001b[1;32m    332 \u001b[1;33m\u001b[1;33m\u001b[0m\u001b[0m\n",
        "\u001b[0m\u001b[1;32m--> 333 \u001b[1;33m    \u001b[1;32mdef\u001b[0m \u001b[0mto_representation\u001b[0m\u001b[1;33m(\u001b[0m\u001b[0mself\u001b[0m\u001b[1;33m,\u001b[0m \u001b[0minstance\u001b[0m\u001b[1;33m)\u001b[0m\u001b[1;33m:\u001b[0m\u001b[1;33m\u001b[0m\u001b[0m\n",
        "\u001b[0m\u001b[1;32m    334 \u001b[1;33m        \"\"\"\n",
        "\u001b[0m\n"
       ]
      },
      {
       "name": "stdout",
       "output_type": "stream",
       "stream": "stdout",
       "text": [
        "ipdb> s\n"
       ]
      },
      {
       "output_type": "stream",
       "stream": "stdout",
       "text": [
        "> \u001b[1;32mc:\\users\\bake3\\workspace\\django-rest-framework-mongoengine\\rest_framework_mongoengine\\serializers.py\u001b[0m(338)\u001b[0;36mto_representation\u001b[1;34m()\u001b[0m\n",
        "\u001b[1;32m    337 \u001b[1;33m        \u001b[1;31m#instantiate return dict\u001b[0m\u001b[1;33m\u001b[0m\u001b[1;33m\u001b[0m\u001b[0m\n",
        "\u001b[0m\u001b[1;32m--> 338 \u001b[1;33m        \u001b[0mret\u001b[0m \u001b[1;33m=\u001b[0m \u001b[0mOrderedDict\u001b[0m\u001b[1;33m(\u001b[0m\u001b[1;33m)\u001b[0m\u001b[1;33m\u001b[0m\u001b[0m\n",
        "\u001b[0m\u001b[1;32m    339 \u001b[1;33m\u001b[1;33m\u001b[0m\u001b[0m\n",
        "\u001b[0m\n"
       ]
      },
      {
       "name": "stdout",
       "output_type": "stream",
       "stream": "stdout",
       "text": [
        "ipdb> b 352\n"
       ]
      },
      {
       "output_type": "stream",
       "stream": "stdout",
       "text": [
        "Breakpoint 1 at c:\\users\\bake3\\workspace\\django-rest-framework-mongoengine\\rest_framework_mongoengine\\serializers.py:352\n"
       ]
      },
      {
       "name": "stdout",
       "output_type": "stream",
       "stream": "stdout",
       "text": [
        "ipdb> c\n"
       ]
      },
      {
       "output_type": "stream",
       "stream": "stdout",
       "text": [
        "> \u001b[1;32mc:\\users\\bake3\\workspace\\django-rest-framework-mongoengine\\rest_framework_mongoengine\\serializers.py\u001b[0m(352)\u001b[0;36mto_representation\u001b[1;34m()\u001b[0m\n",
        "\u001b[1;32m    351 \u001b[1;33m\u001b[1;33m\u001b[0m\u001b[0m\n",
        "\u001b[0m\u001b[1;31m1\u001b[1;32m-> 352 \u001b[1;33m                \u001b[1;32mif\u001b[0m \u001b[0mattribute\u001b[0m \u001b[1;32mis\u001b[0m \u001b[0mNone\u001b[0m\u001b[1;33m:\u001b[0m\u001b[1;33m\u001b[0m\u001b[0m\n",
        "\u001b[0m\u001b[1;32m    353 \u001b[1;33m                    \u001b[1;31m# We skip `to_representation` for `None` values so that\u001b[0m\u001b[1;33m\u001b[0m\u001b[1;33m\u001b[0m\u001b[0m\n",
        "\u001b[0m\n"
       ]
      },
      {
       "name": "stdout",
       "output_type": "stream",
       "stream": "stdout",
       "text": [
        "ipdb> attribute\n"
       ]
      },
      {
       "output_type": "stream",
       "stream": "stdout",
       "text": [
        "ObjectId('54dbbafc7dafc71d3481ea9d')\n"
       ]
      },
      {
       "name": "stdout",
       "output_type": "stream",
       "stream": "stdout",
       "text": [
        "ipdb> c\n"
       ]
      },
      {
       "output_type": "stream",
       "stream": "stdout",
       "text": [
        "> \u001b[1;32mc:\\users\\bake3\\workspace\\django-rest-framework-mongoengine\\rest_framework_mongoengine\\serializers.py\u001b[0m(352)\u001b[0;36mto_representation\u001b[1;34m()\u001b[0m\n",
        "\u001b[1;32m    351 \u001b[1;33m\u001b[1;33m\u001b[0m\u001b[0m\n",
        "\u001b[0m\u001b[1;31m1\u001b[1;32m-> 352 \u001b[1;33m                \u001b[1;32mif\u001b[0m \u001b[0mattribute\u001b[0m \u001b[1;32mis\u001b[0m \u001b[0mNone\u001b[0m\u001b[1;33m:\u001b[0m\u001b[1;33m\u001b[0m\u001b[0m\n",
        "\u001b[0m\u001b[1;32m    353 \u001b[1;33m                    \u001b[1;31m# We skip `to_representation` for `None` values so that\u001b[0m\u001b[1;33m\u001b[0m\u001b[1;33m\u001b[0m\u001b[0m\n",
        "\u001b[0m\n"
       ]
      },
      {
       "name": "stdout",
       "output_type": "stream",
       "stream": "stdout",
       "text": [
        "ipdb> attribute\n"
       ]
      },
      {
       "output_type": "stream",
       "stream": "stdout",
       "text": [
        "u'Snowflake.'\n"
       ]
      },
      {
       "name": "stdout",
       "output_type": "stream",
       "stream": "stdout",
       "text": [
        "ipdb> c\n"
       ]
      },
      {
       "output_type": "stream",
       "stream": "stdout",
       "text": [
        "> \u001b[1;32mc:\\users\\bake3\\workspace\\django-rest-framework-mongoengine\\rest_framework_mongoengine\\serializers.py\u001b[0m(352)\u001b[0;36mto_representation\u001b[1;34m()\u001b[0m\n",
        "\u001b[1;32m    351 \u001b[1;33m\u001b[1;33m\u001b[0m\u001b[0m\n",
        "\u001b[0m\u001b[1;31m1\u001b[1;32m-> 352 \u001b[1;33m                \u001b[1;32mif\u001b[0m \u001b[0mattribute\u001b[0m \u001b[1;32mis\u001b[0m \u001b[0mNone\u001b[0m\u001b[1;33m:\u001b[0m\u001b[1;33m\u001b[0m\u001b[0m\n",
        "\u001b[0m\u001b[1;32m    353 \u001b[1;33m                    \u001b[1;31m# We skip `to_representation` for `None` values so that\u001b[0m\u001b[1;33m\u001b[0m\u001b[1;33m\u001b[0m\u001b[0m\n",
        "\u001b[0m\n"
       ]
      },
      {
       "name": "stdout",
       "output_type": "stream",
       "stream": "stdout",
       "text": [
        "ipdb> attribute\n"
       ]
      },
      {
       "output_type": "stream",
       "stream": "stdout",
       "text": [
        "u'this is only a test.'\n"
       ]
      },
      {
       "name": "stdout",
       "output_type": "stream",
       "stream": "stdout",
       "text": [
        "ipdb> c\n"
       ]
      },
      {
       "output_type": "stream",
       "stream": "stdout",
       "text": [
        "> \u001b[1;32mc:\\users\\bake3\\workspace\\django-rest-framework-mongoengine\\rest_framework_mongoengine\\serializers.py\u001b[0m(352)\u001b[0;36mto_representation\u001b[1;34m()\u001b[0m\n",
        "\u001b[1;32m    351 \u001b[1;33m\u001b[1;33m\u001b[0m\u001b[0m\n",
        "\u001b[0m\u001b[1;31m1\u001b[1;32m-> 352 \u001b[1;33m                \u001b[1;32mif\u001b[0m \u001b[0mattribute\u001b[0m \u001b[1;32mis\u001b[0m \u001b[0mNone\u001b[0m\u001b[1;33m:\u001b[0m\u001b[1;33m\u001b[0m\u001b[0m\n",
        "\u001b[0m\u001b[1;32m    353 \u001b[1;33m                    \u001b[1;31m# We skip `to_representation` for `None` values so that\u001b[0m\u001b[1;33m\u001b[0m\u001b[1;33m\u001b[0m\u001b[0m\n",
        "\u001b[0m\n"
       ]
      },
      {
       "name": "stdout",
       "output_type": "stream",
       "stream": "stdout",
       "text": [
        "ipdb> attribute\n"
       ]
      },
      {
       "output_type": "stream",
       "stream": "stdout",
       "text": [
        "DBRef('widget', ObjectId('54dbbafc7dafc71d3481ea9c'))\n"
       ]
      },
      {
       "name": "stdout",
       "output_type": "stream",
       "stream": "stdout",
       "text": [
        "ipdb> c\n"
       ]
      },
      {
       "output_type": "stream",
       "stream": "stdout",
       "text": [
        "> \u001b[1;32mc:\\users\\bake3\\workspace\\django-rest-framework-mongoengine\\rest_framework_mongoengine\\serializers.py\u001b[0m(352)\u001b[0;36mto_representation\u001b[1;34m()\u001b[0m\n",
        "\u001b[1;32m    351 \u001b[1;33m\u001b[1;33m\u001b[0m\u001b[0m\n",
        "\u001b[0m\u001b[1;31m1\u001b[1;32m-> 352 \u001b[1;33m                \u001b[1;32mif\u001b[0m \u001b[0mattribute\u001b[0m \u001b[1;32mis\u001b[0m \u001b[0mNone\u001b[0m\u001b[1;33m:\u001b[0m\u001b[1;33m\u001b[0m\u001b[0m\n",
        "\u001b[0m\u001b[1;32m    353 \u001b[1;33m                    \u001b[1;31m# We skip `to_representation` for `None` values so that\u001b[0m\u001b[1;33m\u001b[0m\u001b[1;33m\u001b[0m\u001b[0m\n",
        "\u001b[0m\n"
       ]
      },
      {
       "name": "stdout",
       "output_type": "stream",
       "stream": "stdout",
       "text": [
        "ipdb> attribute\n"
       ]
      },
      {
       "output_type": "stream",
       "stream": "stdout",
       "text": [
        "[DBRef('widget', ObjectId('54dbbafc7dafc71d3481ea9c')), DBRef('widget', ObjectId('54dbbafc7dafc71d3481ea9b'))]\n"
       ]
      },
      {
       "name": "stdout",
       "output_type": "stream",
       "stream": "stdout",
       "text": [
        "ipdb> c\n"
       ]
      },
      {
       "output_type": "stream",
       "stream": "stdout",
       "text": [
        "> \u001b[1;32mc:\\users\\bake3\\workspace\\django-rest-framework-mongoengine\\rest_framework_mongoengine\\serializers.py\u001b[0m(352)\u001b[0;36mto_representation\u001b[1;34m()\u001b[0m\n",
        "\u001b[1;32m    351 \u001b[1;33m\u001b[1;33m\u001b[0m\u001b[0m\n",
        "\u001b[0m\u001b[1;31m1\u001b[1;32m-> 352 \u001b[1;33m                \u001b[1;32mif\u001b[0m \u001b[0mattribute\u001b[0m \u001b[1;32mis\u001b[0m \u001b[0mNone\u001b[0m\u001b[1;33m:\u001b[0m\u001b[1;33m\u001b[0m\u001b[0m\n",
        "\u001b[0m\u001b[1;32m    353 \u001b[1;33m                    \u001b[1;31m# We skip `to_representation` for `None` values so that\u001b[0m\u001b[1;33m\u001b[0m\u001b[1;33m\u001b[0m\u001b[0m\n",
        "\u001b[0m\n"
       ]
      },
      {
       "name": "stdout",
       "output_type": "stream",
       "stream": "stdout",
       "text": [
        "ipdb> attribute\n"
       ]
      },
      {
       "output_type": "stream",
       "stream": "stdout",
       "text": [
        "[<Relationship: Relationship object>]\n"
       ]
      },
      {
       "name": "stdout",
       "output_type": "stream",
       "stream": "stdout",
       "text": [
        "ipdb> field.field_name\n"
       ]
      },
      {
       "output_type": "stream",
       "stream": "stdout",
       "text": [
        "'relationships'\n"
       ]
      },
      {
       "name": "stdout",
       "output_type": "stream",
       "stream": "stdout",
       "text": [
        "ipdb> field\n"
       ]
      },
      {
       "output_type": "stream",
       "stream": "stdout",
       "text": [
        "ListField(default=<function <lambda> at 0x04EE00B0>, depth=0, model_field=<mongoengine.fields.ListField object at 0x04EDC450>, required=False)\n"
       ]
      },
      {
       "name": "stdout",
       "output_type": "stream",
       "stream": "stdout",
       "text": [
        "ipdb> s\n"
       ]
      },
      {
       "output_type": "stream",
       "stream": "stdout",
       "text": [
        "> \u001b[1;32mc:\\users\\bake3\\workspace\\django-rest-framework-mongoengine\\rest_framework_mongoengine\\serializers.py\u001b[0m(359)\u001b[0;36mto_representation\u001b[1;34m()\u001b[0m\n",
        "\u001b[1;32m    358 \u001b[1;33m                    \u001b[1;31m#of the data.\u001b[0m\u001b[1;33m\u001b[0m\u001b[1;33m\u001b[0m\u001b[0m\n",
        "\u001b[0m\u001b[1;32m--> 359 \u001b[1;33m                    \u001b[0mret\u001b[0m\u001b[1;33m[\u001b[0m\u001b[0mfield\u001b[0m\u001b[1;33m.\u001b[0m\u001b[0mfield_name\u001b[0m\u001b[1;33m]\u001b[0m \u001b[1;33m=\u001b[0m \u001b[0mfield\u001b[0m\u001b[1;33m.\u001b[0m\u001b[0mto_representation\u001b[0m\u001b[1;33m(\u001b[0m\u001b[0mattribute\u001b[0m\u001b[1;33m)\u001b[0m\u001b[1;33m\u001b[0m\u001b[0m\n",
        "\u001b[0m\u001b[1;32m    360 \u001b[1;33m\u001b[1;33m\u001b[0m\u001b[0m\n",
        "\u001b[0m\n"
       ]
      },
      {
       "name": "stdout",
       "output_type": "stream",
       "stream": "stdout",
       "text": [
        "ipdb> s\n"
       ]
      },
      {
       "output_type": "stream",
       "stream": "stdout",
       "text": [
        "--Call--\n",
        "> \u001b[1;32mc:\\users\\bake3\\workspace\\django-rest-framework-mongoengine\\rest_framework_mongoengine\\fields.py\u001b[0m(182)\u001b[0;36mto_representation\u001b[1;34m()\u001b[0m\n",
        "\u001b[1;32m    181 \u001b[1;33m\u001b[1;33m\u001b[0m\u001b[0m\n",
        "\u001b[0m\u001b[1;32m--> 182 \u001b[1;33m    \u001b[1;32mdef\u001b[0m \u001b[0mto_representation\u001b[0m\u001b[1;33m(\u001b[0m\u001b[0mself\u001b[0m\u001b[1;33m,\u001b[0m \u001b[0mvalue\u001b[0m\u001b[1;33m)\u001b[0m\u001b[1;33m:\u001b[0m\u001b[1;33m\u001b[0m\u001b[0m\n",
        "\u001b[0m\u001b[1;32m    183 \u001b[1;33m        \u001b[1;32mreturn\u001b[0m \u001b[1;33m[\u001b[0m\u001b[0mself\u001b[0m\u001b[1;33m.\u001b[0m\u001b[0mnested_field\u001b[0m\u001b[1;33m.\u001b[0m\u001b[0mto_representation\u001b[0m\u001b[1;33m(\u001b[0m\u001b[0mv\u001b[0m\u001b[1;33m)\u001b[0m \u001b[1;32mfor\u001b[0m \u001b[0mv\u001b[0m \u001b[1;32min\u001b[0m \u001b[0mvalue\u001b[0m\u001b[1;33m]\u001b[0m\u001b[1;33m\u001b[0m\u001b[0m\n",
        "\u001b[0m\n"
       ]
      },
      {
       "name": "stdout",
       "output_type": "stream",
       "stream": "stdout",
       "text": [
        "ipdb> value\n"
       ]
      },
      {
       "output_type": "stream",
       "stream": "stdout",
       "text": [
        "[<Relationship: Relationship object>]\n"
       ]
      },
      {
       "name": "stdout",
       "output_type": "stream",
       "stream": "stdout",
       "text": [
        "ipdb> s\n"
       ]
      },
      {
       "output_type": "stream",
       "stream": "stdout",
       "text": [
        "> \u001b[1;32mc:\\users\\bake3\\workspace\\django-rest-framework-mongoengine\\rest_framework_mongoengine\\fields.py\u001b[0m(183)\u001b[0;36mto_representation\u001b[1;34m()\u001b[0m\n",
        "\u001b[1;32m    182 \u001b[1;33m    \u001b[1;32mdef\u001b[0m \u001b[0mto_representation\u001b[0m\u001b[1;33m(\u001b[0m\u001b[0mself\u001b[0m\u001b[1;33m,\u001b[0m \u001b[0mvalue\u001b[0m\u001b[1;33m)\u001b[0m\u001b[1;33m:\u001b[0m\u001b[1;33m\u001b[0m\u001b[0m\n",
        "\u001b[0m\u001b[1;32m--> 183 \u001b[1;33m        \u001b[1;32mreturn\u001b[0m \u001b[1;33m[\u001b[0m\u001b[0mself\u001b[0m\u001b[1;33m.\u001b[0m\u001b[0mnested_field\u001b[0m\u001b[1;33m.\u001b[0m\u001b[0mto_representation\u001b[0m\u001b[1;33m(\u001b[0m\u001b[0mv\u001b[0m\u001b[1;33m)\u001b[0m \u001b[1;32mfor\u001b[0m \u001b[0mv\u001b[0m \u001b[1;32min\u001b[0m \u001b[0mvalue\u001b[0m\u001b[1;33m]\u001b[0m\u001b[1;33m\u001b[0m\u001b[0m\n",
        "\u001b[0m\u001b[1;32m    184 \u001b[1;33m\u001b[1;33m\u001b[0m\u001b[0m\n",
        "\u001b[0m\n"
       ]
      },
      {
       "name": "stdout",
       "output_type": "stream",
       "stream": "stdout",
       "text": [
        "ipdb> s\n"
       ]
      },
      {
       "output_type": "stream",
       "stream": "stdout",
       "text": [
        "--Call--\n",
        "> \u001b[1;32mc:\\users\\bake3\\workspace\\django-rest-framework-mongoengine\\rest_framework_mongoengine\\fields.py\u001b[0m(234)\u001b[0;36mto_representation\u001b[1;34m()\u001b[0m\n",
        "\u001b[1;32m    233 \u001b[1;33m\u001b[1;33m\u001b[0m\u001b[0m\n",
        "\u001b[0m\u001b[1;32m--> 234 \u001b[1;33m    \u001b[1;32mdef\u001b[0m \u001b[0mto_representation\u001b[0m\u001b[1;33m(\u001b[0m\u001b[0mself\u001b[0m\u001b[1;33m,\u001b[0m \u001b[0mvalue\u001b[0m\u001b[1;33m)\u001b[0m\u001b[1;33m:\u001b[0m\u001b[1;33m\u001b[0m\u001b[0m\n",
        "\u001b[0m\u001b[1;32m    235 \u001b[1;33m        \u001b[1;32mif\u001b[0m \u001b[0mvalue\u001b[0m \u001b[1;32mis\u001b[0m \u001b[0mNone\u001b[0m\u001b[1;33m:\u001b[0m\u001b[1;33m\u001b[0m\u001b[0m\n",
        "\u001b[0m\n"
       ]
      },
      {
       "name": "stdout",
       "output_type": "stream",
       "stream": "stdout",
       "text": [
        "ipdb> value\n"
       ]
      },
      {
       "output_type": "stream",
       "stream": "stdout",
       "text": [
        "<Relationship: Relationship object>\n"
       ]
      },
      {
       "name": "stdout",
       "output_type": "stream",
       "stream": "stdout",
       "text": [
        "ipdb> value._data\n"
       ]
      },
      {
       "output_type": "stream",
       "stream": "stdout",
       "text": [
        "{'predicate': u'parent', 'subject_rel': DBRef('widget', ObjectId('54dbbafc7dafc71d3481ea9d')), 'object_rel': DBRef('widget', ObjectId('54dbbafc7dafc71d3481ea9c'))}\n"
       ]
      },
      {
       "name": "stdout",
       "output_type": "stream",
       "stream": "stdout",
       "text": [
        "ipdb> s\n"
       ]
      },
      {
       "output_type": "stream",
       "stream": "stdout",
       "text": [
        "> \u001b[1;32mc:\\users\\bake3\\workspace\\django-rest-framework-mongoengine\\rest_framework_mongoengine\\fields.py\u001b[0m(235)\u001b[0;36mto_representation\u001b[1;34m()\u001b[0m\n",
        "\u001b[1;32m    234 \u001b[1;33m    \u001b[1;32mdef\u001b[0m \u001b[0mto_representation\u001b[0m\u001b[1;33m(\u001b[0m\u001b[0mself\u001b[0m\u001b[1;33m,\u001b[0m \u001b[0mvalue\u001b[0m\u001b[1;33m)\u001b[0m\u001b[1;33m:\u001b[0m\u001b[1;33m\u001b[0m\u001b[0m\n",
        "\u001b[0m\u001b[1;32m--> 235 \u001b[1;33m        \u001b[1;32mif\u001b[0m \u001b[0mvalue\u001b[0m \u001b[1;32mis\u001b[0m \u001b[0mNone\u001b[0m\u001b[1;33m:\u001b[0m\u001b[1;33m\u001b[0m\u001b[0m\n",
        "\u001b[0m\u001b[1;32m    236 \u001b[1;33m            \u001b[1;32mreturn\u001b[0m \u001b[0mNone\u001b[0m\u001b[1;33m\u001b[0m\u001b[0m\n",
        "\u001b[0m\n"
       ]
      },
      {
       "name": "stdout",
       "output_type": "stream",
       "stream": "stdout",
       "text": [
        "ipdb> s\n"
       ]
      },
      {
       "output_type": "stream",
       "stream": "stdout",
       "text": [
        "> \u001b[1;32mc:\\users\\bake3\\workspace\\django-rest-framework-mongoengine\\rest_framework_mongoengine\\fields.py\u001b[0m(240)\u001b[0;36mto_representation\u001b[1;34m()\u001b[0m\n",
        "\u001b[1;32m    239 \u001b[1;33m            \u001b[1;31m#get model's fields\u001b[0m\u001b[1;33m\u001b[0m\u001b[1;33m\u001b[0m\u001b[0m\n",
        "\u001b[0m\u001b[1;32m--> 240 \u001b[1;33m            \u001b[0mret\u001b[0m \u001b[1;33m=\u001b[0m \u001b[0mOrderedDict\u001b[0m\u001b[1;33m(\u001b[0m\u001b[1;33m)\u001b[0m\u001b[1;33m\u001b[0m\u001b[0m\n",
        "\u001b[0m\u001b[1;32m    241 \u001b[1;33m            \u001b[1;32mfor\u001b[0m \u001b[0mfield_name\u001b[0m \u001b[1;32min\u001b[0m \u001b[0mself\u001b[0m\u001b[1;33m.\u001b[0m\u001b[0mchild_fields\u001b[0m\u001b[1;33m:\u001b[0m\u001b[1;33m\u001b[0m\u001b[0m\n",
        "\u001b[0m\n"
       ]
      },
      {
       "name": "stdout",
       "output_type": "stream",
       "stream": "stdout",
       "text": [
        "ipdb> s\n"
       ]
      },
      {
       "output_type": "stream",
       "stream": "stdout",
       "text": [
        "--Call--\n",
        "> \u001b[1;32mc:\\python27\\lib\\collections.py\u001b[0m(38)\u001b[0;36m__init__\u001b[1;34m()\u001b[0m\n",
        "\u001b[1;32m     37 \u001b[1;33m\u001b[1;33m\u001b[0m\u001b[0m\n",
        "\u001b[0m\u001b[1;32m---> 38 \u001b[1;33m    \u001b[1;32mdef\u001b[0m \u001b[0m__init__\u001b[0m\u001b[1;33m(\u001b[0m\u001b[1;33m*\u001b[0m\u001b[0margs\u001b[0m\u001b[1;33m,\u001b[0m \u001b[1;33m**\u001b[0m\u001b[0mkwds\u001b[0m\u001b[1;33m)\u001b[0m\u001b[1;33m:\u001b[0m\u001b[1;33m\u001b[0m\u001b[0m\n",
        "\u001b[0m\u001b[1;32m     39 \u001b[1;33m        '''Initialize an ordered dictionary.  The signature is the same as\n",
        "\u001b[0m\n"
       ]
      },
      {
       "name": "stdout",
       "output_type": "stream",
       "stream": "stdout",
       "text": [
        "ipdb> up\n"
       ]
      },
      {
       "output_type": "stream",
       "stream": "stdout",
       "text": [
        "> \u001b[1;32mc:\\users\\bake3\\workspace\\django-rest-framework-mongoengine\\rest_framework_mongoengine\\fields.py\u001b[0m(240)\u001b[0;36mto_representation\u001b[1;34m()\u001b[0m\n",
        "\u001b[1;32m    239 \u001b[1;33m            \u001b[1;31m#get model's fields\u001b[0m\u001b[1;33m\u001b[0m\u001b[1;33m\u001b[0m\u001b[0m\n",
        "\u001b[0m\u001b[1;32m--> 240 \u001b[1;33m            \u001b[0mret\u001b[0m \u001b[1;33m=\u001b[0m \u001b[0mOrderedDict\u001b[0m\u001b[1;33m(\u001b[0m\u001b[1;33m)\u001b[0m\u001b[1;33m\u001b[0m\u001b[0m\n",
        "\u001b[0m\u001b[1;32m    241 \u001b[1;33m            \u001b[1;32mfor\u001b[0m \u001b[0mfield_name\u001b[0m \u001b[1;32min\u001b[0m \u001b[0mself\u001b[0m\u001b[1;33m.\u001b[0m\u001b[0mchild_fields\u001b[0m\u001b[1;33m:\u001b[0m\u001b[1;33m\u001b[0m\u001b[0m\n",
        "\u001b[0m\n"
       ]
      },
      {
       "name": "stdout",
       "output_type": "stream",
       "stream": "stdout",
       "text": [
        "ipdb> s\n"
       ]
      },
      {
       "output_type": "stream",
       "stream": "stdout",
       "text": [
        "> \u001b[1;32mc:\\python27\\lib\\collections.py\u001b[0m(44)\u001b[0;36m__init__\u001b[1;34m()\u001b[0m\n",
        "\u001b[1;32m     43 \u001b[1;33m        '''\n",
        "\u001b[0m\u001b[1;32m---> 44 \u001b[1;33m        \u001b[1;32mif\u001b[0m \u001b[1;32mnot\u001b[0m \u001b[0margs\u001b[0m\u001b[1;33m:\u001b[0m\u001b[1;33m\u001b[0m\u001b[0m\n",
        "\u001b[0m\u001b[1;32m     45 \u001b[1;33m            raise TypeError(\"descriptor '__init__' of 'OrderedDict' object \"\n",
        "\u001b[0m\n"
       ]
      },
      {
       "name": "stdout",
       "output_type": "stream",
       "stream": "stdout",
       "text": [
        "ipdb> up\n"
       ]
      },
      {
       "output_type": "stream",
       "stream": "stdout",
       "text": [
        "> \u001b[1;32mc:\\users\\bake3\\workspace\\django-rest-framework-mongoengine\\rest_framework_mongoengine\\fields.py\u001b[0m(240)\u001b[0;36mto_representation\u001b[1;34m()\u001b[0m\n",
        "\u001b[1;32m    239 \u001b[1;33m            \u001b[1;31m#get model's fields\u001b[0m\u001b[1;33m\u001b[0m\u001b[1;33m\u001b[0m\u001b[0m\n",
        "\u001b[0m\u001b[1;32m--> 240 \u001b[1;33m            \u001b[0mret\u001b[0m \u001b[1;33m=\u001b[0m \u001b[0mOrderedDict\u001b[0m\u001b[1;33m(\u001b[0m\u001b[1;33m)\u001b[0m\u001b[1;33m\u001b[0m\u001b[0m\n",
        "\u001b[0m\u001b[1;32m    241 \u001b[1;33m            \u001b[1;32mfor\u001b[0m \u001b[0mfield_name\u001b[0m \u001b[1;32min\u001b[0m \u001b[0mself\u001b[0m\u001b[1;33m.\u001b[0m\u001b[0mchild_fields\u001b[0m\u001b[1;33m:\u001b[0m\u001b[1;33m\u001b[0m\u001b[0m\n",
        "\u001b[0m\n"
       ]
      },
      {
       "name": "stdout",
       "output_type": "stream",
       "stream": "stdout",
       "text": [
        "ipdb> until 241\n"
       ]
      },
      {
       "output_type": "stream",
       "stream": "stdout",
       "text": [
        "> \u001b[1;32mc:\\users\\bake3\\workspace\\django-rest-framework-mongoengine\\rest_framework_mongoengine\\fields.py\u001b[0m(241)\u001b[0;36mto_representation\u001b[1;34m()\u001b[0m\n",
        "\u001b[1;32m    240 \u001b[1;33m            \u001b[0mret\u001b[0m \u001b[1;33m=\u001b[0m \u001b[0mOrderedDict\u001b[0m\u001b[1;33m(\u001b[0m\u001b[1;33m)\u001b[0m\u001b[1;33m\u001b[0m\u001b[0m\n",
        "\u001b[0m\u001b[1;32m--> 241 \u001b[1;33m            \u001b[1;32mfor\u001b[0m \u001b[0mfield_name\u001b[0m \u001b[1;32min\u001b[0m \u001b[0mself\u001b[0m\u001b[1;33m.\u001b[0m\u001b[0mchild_fields\u001b[0m\u001b[1;33m:\u001b[0m\u001b[1;33m\u001b[0m\u001b[0m\n",
        "\u001b[0m\u001b[1;32m    242 \u001b[1;33m                \u001b[0mret\u001b[0m\u001b[1;33m[\u001b[0m\u001b[0mfield_name\u001b[0m\u001b[1;33m]\u001b[0m \u001b[1;33m=\u001b[0m \u001b[0mself\u001b[0m\u001b[1;33m.\u001b[0m\u001b[0mchild_fields\u001b[0m\u001b[1;33m[\u001b[0m\u001b[0mfield_name\u001b[0m\u001b[1;33m]\u001b[0m\u001b[1;33m.\u001b[0m\u001b[0mto_representation\u001b[0m\u001b[1;33m(\u001b[0m\u001b[0mvalue\u001b[0m\u001b[1;33m.\u001b[0m\u001b[0m_data\u001b[0m\u001b[1;33m[\u001b[0m\u001b[0mfield_name\u001b[0m\u001b[1;33m]\u001b[0m\u001b[1;33m)\u001b[0m\u001b[1;33m\u001b[0m\u001b[0m\n",
        "\u001b[0m\n"
       ]
      },
      {
       "name": "stdout",
       "output_type": "stream",
       "stream": "stdout",
       "text": [
        "ipdb> s\n"
       ]
      },
      {
       "output_type": "stream",
       "stream": "stdout",
       "text": [
        "> \u001b[1;32mc:\\users\\bake3\\workspace\\django-rest-framework-mongoengine\\rest_framework_mongoengine\\fields.py\u001b[0m(242)\u001b[0;36mto_representation\u001b[1;34m()\u001b[0m\n",
        "\u001b[1;32m    241 \u001b[1;33m            \u001b[1;32mfor\u001b[0m \u001b[0mfield_name\u001b[0m \u001b[1;32min\u001b[0m \u001b[0mself\u001b[0m\u001b[1;33m.\u001b[0m\u001b[0mchild_fields\u001b[0m\u001b[1;33m:\u001b[0m\u001b[1;33m\u001b[0m\u001b[0m\n",
        "\u001b[0m\u001b[1;32m--> 242 \u001b[1;33m                \u001b[0mret\u001b[0m\u001b[1;33m[\u001b[0m\u001b[0mfield_name\u001b[0m\u001b[1;33m]\u001b[0m \u001b[1;33m=\u001b[0m \u001b[0mself\u001b[0m\u001b[1;33m.\u001b[0m\u001b[0mchild_fields\u001b[0m\u001b[1;33m[\u001b[0m\u001b[0mfield_name\u001b[0m\u001b[1;33m]\u001b[0m\u001b[1;33m.\u001b[0m\u001b[0mto_representation\u001b[0m\u001b[1;33m(\u001b[0m\u001b[0mvalue\u001b[0m\u001b[1;33m.\u001b[0m\u001b[0m_data\u001b[0m\u001b[1;33m[\u001b[0m\u001b[0mfield_name\u001b[0m\u001b[1;33m]\u001b[0m\u001b[1;33m)\u001b[0m\u001b[1;33m\u001b[0m\u001b[0m\n",
        "\u001b[0m\u001b[1;32m    243 \u001b[1;33m            \u001b[1;32mreturn\u001b[0m \u001b[0mret\u001b[0m\u001b[1;33m\u001b[0m\u001b[0m\n",
        "\u001b[0m\n"
       ]
      },
      {
       "name": "stdout",
       "output_type": "stream",
       "stream": "stdout",
       "text": [
        "ipdb> field_name\n"
       ]
      },
      {
       "output_type": "stream",
       "stream": "stdout",
       "text": [
        "'predicate'\n"
       ]
      },
      {
       "name": "stdout",
       "output_type": "stream",
       "stream": "stdout",
       "text": [
        "ipdb> self.child_fields\n"
       ]
      },
      {
       "output_type": "stream",
       "stream": "stdout",
       "text": [
        "{'predicate': CharField(default=<function <lambda> at 0x04EE00B0>, required=False), 'object_rel': ReferenceField(default=<function <lambda> at 0x04EE00B0>, depth=0, model_field=<mongoengine.fields.ReferenceField object at 0x04EDC4F0>, required=False), 'subject_rel': ReferenceField(default=<function <lambda> at 0x04EE00B0>, depth=0, model_field=<mongoengine.fields.ReferenceField object at 0x04EC6810>, required=False)}\n"
       ]
      },
      {
       "name": "stdout",
       "output_type": "stream",
       "stream": "stdout",
       "text": [
        "ipdb> self.child_field['predicate']\n"
       ]
      },
      {
       "output_type": "stream",
       "stream": "stdout",
       "text": [
        "*** AttributeError: 'EmbeddedDocumentField' object has no attribute 'child_field'\n"
       ]
      },
      {
       "name": "stdout",
       "output_type": "stream",
       "stream": "stdout",
       "text": [
        "ipdb> self.child_fields['predicate']\n"
       ]
      },
      {
       "output_type": "stream",
       "stream": "stdout",
       "text": [
        "CharField(default=<function <lambda> at 0x04EE00B0>, required=False)\n"
       ]
      },
      {
       "name": "stdout",
       "output_type": "stream",
       "stream": "stdout",
       "text": [
        "ipdb> value._data[field_name]\n"
       ]
      },
      {
       "output_type": "stream",
       "stream": "stdout",
       "text": [
        "u'parent'\n"
       ]
      },
      {
       "name": "stdout",
       "output_type": "stream",
       "stream": "stdout",
       "text": [
        "ipdb> s\n"
       ]
      },
      {
       "output_type": "stream",
       "stream": "stdout",
       "text": [
        "--Call--\n",
        "> \u001b[1;32mc:\\users\\bake3\\workspace\\venvs\\drfme\\lib\\site-packages\\rest_framework\\fields.py\u001b[0m(581)\u001b[0;36mto_representation\u001b[1;34m()\u001b[0m\n",
        "\u001b[1;32m    580 \u001b[1;33m\u001b[1;33m\u001b[0m\u001b[0m\n",
        "\u001b[0m\u001b[1;32m--> 581 \u001b[1;33m    \u001b[1;32mdef\u001b[0m \u001b[0mto_representation\u001b[0m\u001b[1;33m(\u001b[0m\u001b[0mself\u001b[0m\u001b[1;33m,\u001b[0m \u001b[0mvalue\u001b[0m\u001b[1;33m)\u001b[0m\u001b[1;33m:\u001b[0m\u001b[1;33m\u001b[0m\u001b[0m\n",
        "\u001b[0m\u001b[1;32m    582 \u001b[1;33m        \u001b[1;32mreturn\u001b[0m \u001b[0msix\u001b[0m\u001b[1;33m.\u001b[0m\u001b[0mtext_type\u001b[0m\u001b[1;33m(\u001b[0m\u001b[0mvalue\u001b[0m\u001b[1;33m)\u001b[0m\u001b[1;33m\u001b[0m\u001b[0m\n",
        "\u001b[0m\n"
       ]
      },
      {
       "name": "stdout",
       "output_type": "stream",
       "stream": "stdout",
       "text": [
        "ipdb> s\n"
       ]
      },
      {
       "output_type": "stream",
       "stream": "stdout",
       "text": [
        "> \u001b[1;32mc:\\users\\bake3\\workspace\\venvs\\drfme\\lib\\site-packages\\rest_framework\\fields.py\u001b[0m(582)\u001b[0;36mto_representation\u001b[1;34m()\u001b[0m\n",
        "\u001b[1;32m    581 \u001b[1;33m    \u001b[1;32mdef\u001b[0m \u001b[0mto_representation\u001b[0m\u001b[1;33m(\u001b[0m\u001b[0mself\u001b[0m\u001b[1;33m,\u001b[0m \u001b[0mvalue\u001b[0m\u001b[1;33m)\u001b[0m\u001b[1;33m:\u001b[0m\u001b[1;33m\u001b[0m\u001b[0m\n",
        "\u001b[0m\u001b[1;32m--> 582 \u001b[1;33m        \u001b[1;32mreturn\u001b[0m \u001b[0msix\u001b[0m\u001b[1;33m.\u001b[0m\u001b[0mtext_type\u001b[0m\u001b[1;33m(\u001b[0m\u001b[0mvalue\u001b[0m\u001b[1;33m)\u001b[0m\u001b[1;33m\u001b[0m\u001b[0m\n",
        "\u001b[0m\u001b[1;32m    583 \u001b[1;33m\u001b[1;33m\u001b[0m\u001b[0m\n",
        "\u001b[0m\n"
       ]
      },
      {
       "name": "stdout",
       "output_type": "stream",
       "stream": "stdout",
       "text": [
        "ipdb> s\n"
       ]
      },
      {
       "output_type": "stream",
       "stream": "stdout",
       "text": [
        "--Return--\n",
        "u'parent'\n",
        "> \u001b[1;32mc:\\users\\bake3\\workspace\\venvs\\drfme\\lib\\site-packages\\rest_framework\\fields.py\u001b[0m(582)\u001b[0;36mto_representation\u001b[1;34m()\u001b[0m\n",
        "\u001b[1;32m    581 \u001b[1;33m    \u001b[1;32mdef\u001b[0m \u001b[0mto_representation\u001b[0m\u001b[1;33m(\u001b[0m\u001b[0mself\u001b[0m\u001b[1;33m,\u001b[0m \u001b[0mvalue\u001b[0m\u001b[1;33m)\u001b[0m\u001b[1;33m:\u001b[0m\u001b[1;33m\u001b[0m\u001b[0m\n",
        "\u001b[0m\u001b[1;32m--> 582 \u001b[1;33m        \u001b[1;32mreturn\u001b[0m \u001b[0msix\u001b[0m\u001b[1;33m.\u001b[0m\u001b[0mtext_type\u001b[0m\u001b[1;33m(\u001b[0m\u001b[0mvalue\u001b[0m\u001b[1;33m)\u001b[0m\u001b[1;33m\u001b[0m\u001b[0m\n",
        "\u001b[0m\u001b[1;32m    583 \u001b[1;33m\u001b[1;33m\u001b[0m\u001b[0m\n",
        "\u001b[0m\n"
       ]
      },
      {
       "name": "stdout",
       "output_type": "stream",
       "stream": "stdout",
       "text": [
        "ipdb> s\n"
       ]
      },
      {
       "output_type": "stream",
       "stream": "stdout",
       "text": [
        "--Call--\n",
        "> \u001b[1;32mc:\\python27\\lib\\collections.py\u001b[0m(59)\u001b[0;36m__setitem__\u001b[1;34m()\u001b[0m\n",
        "\u001b[1;32m     58 \u001b[1;33m\u001b[1;33m\u001b[0m\u001b[0m\n",
        "\u001b[0m\u001b[1;32m---> 59 \u001b[1;33m    \u001b[1;32mdef\u001b[0m \u001b[0m__setitem__\u001b[0m\u001b[1;33m(\u001b[0m\u001b[0mself\u001b[0m\u001b[1;33m,\u001b[0m \u001b[0mkey\u001b[0m\u001b[1;33m,\u001b[0m \u001b[0mvalue\u001b[0m\u001b[1;33m,\u001b[0m \u001b[0mdict_setitem\u001b[0m\u001b[1;33m=\u001b[0m\u001b[0mdict\u001b[0m\u001b[1;33m.\u001b[0m\u001b[0m__setitem__\u001b[0m\u001b[1;33m)\u001b[0m\u001b[1;33m:\u001b[0m\u001b[1;33m\u001b[0m\u001b[0m\n",
        "\u001b[0m\u001b[1;32m     60 \u001b[1;33m        \u001b[1;34m'od.__setitem__(i, y) <==> od[i]=y'\u001b[0m\u001b[1;33m\u001b[0m\u001b[0m\n",
        "\u001b[0m\n"
       ]
      },
      {
       "name": "stdout",
       "output_type": "stream",
       "stream": "stdout",
       "text": [
        "ipdb> s\n"
       ]
      },
      {
       "output_type": "stream",
       "stream": "stdout",
       "text": [
        "> \u001b[1;32mc:\\python27\\lib\\collections.py\u001b[0m(63)\u001b[0;36m__setitem__\u001b[1;34m()\u001b[0m\n",
        "\u001b[1;32m     62 \u001b[1;33m        \u001b[1;31m# and the inherited dictionary is updated with the new key/value pair.\u001b[0m\u001b[1;33m\u001b[0m\u001b[1;33m\u001b[0m\u001b[0m\n",
        "\u001b[0m\u001b[1;32m---> 63 \u001b[1;33m        \u001b[1;32mif\u001b[0m \u001b[0mkey\u001b[0m \u001b[1;32mnot\u001b[0m \u001b[1;32min\u001b[0m \u001b[0mself\u001b[0m\u001b[1;33m:\u001b[0m\u001b[1;33m\u001b[0m\u001b[0m\n",
        "\u001b[0m\u001b[1;32m     64 \u001b[1;33m            \u001b[0mroot\u001b[0m \u001b[1;33m=\u001b[0m \u001b[0mself\u001b[0m\u001b[1;33m.\u001b[0m\u001b[0m__root\u001b[0m\u001b[1;33m\u001b[0m\u001b[0m\n",
        "\u001b[0m\n"
       ]
      },
      {
       "name": "stdout",
       "output_type": "stream",
       "stream": "stdout",
       "text": [
        "ipdb> s\n"
       ]
      },
      {
       "output_type": "stream",
       "stream": "stdout",
       "text": [
        "> \u001b[1;32mc:\\python27\\lib\\collections.py\u001b[0m(64)\u001b[0;36m__setitem__\u001b[1;34m()\u001b[0m\n",
        "\u001b[1;32m     63 \u001b[1;33m        \u001b[1;32mif\u001b[0m \u001b[0mkey\u001b[0m \u001b[1;32mnot\u001b[0m \u001b[1;32min\u001b[0m \u001b[0mself\u001b[0m\u001b[1;33m:\u001b[0m\u001b[1;33m\u001b[0m\u001b[0m\n",
        "\u001b[0m\u001b[1;32m---> 64 \u001b[1;33m            \u001b[0mroot\u001b[0m \u001b[1;33m=\u001b[0m \u001b[0mself\u001b[0m\u001b[1;33m.\u001b[0m\u001b[0m__root\u001b[0m\u001b[1;33m\u001b[0m\u001b[0m\n",
        "\u001b[0m\u001b[1;32m     65 \u001b[1;33m            \u001b[0mlast\u001b[0m \u001b[1;33m=\u001b[0m \u001b[0mroot\u001b[0m\u001b[1;33m[\u001b[0m\u001b[1;36m0\u001b[0m\u001b[1;33m]\u001b[0m\u001b[1;33m\u001b[0m\u001b[0m\n",
        "\u001b[0m\n"
       ]
      },
      {
       "name": "stdout",
       "output_type": "stream",
       "stream": "stdout",
       "text": [
        "ipdb> s\n"
       ]
      },
      {
       "output_type": "stream",
       "stream": "stdout",
       "text": [
        "> \u001b[1;32mc:\\python27\\lib\\collections.py\u001b[0m(65)\u001b[0;36m__setitem__\u001b[1;34m()\u001b[0m\n",
        "\u001b[1;32m     64 \u001b[1;33m            \u001b[0mroot\u001b[0m \u001b[1;33m=\u001b[0m \u001b[0mself\u001b[0m\u001b[1;33m.\u001b[0m\u001b[0m__root\u001b[0m\u001b[1;33m\u001b[0m\u001b[0m\n",
        "\u001b[0m\u001b[1;32m---> 65 \u001b[1;33m            \u001b[0mlast\u001b[0m \u001b[1;33m=\u001b[0m \u001b[0mroot\u001b[0m\u001b[1;33m[\u001b[0m\u001b[1;36m0\u001b[0m\u001b[1;33m]\u001b[0m\u001b[1;33m\u001b[0m\u001b[0m\n",
        "\u001b[0m\u001b[1;32m     66 \u001b[1;33m            \u001b[0mlast\u001b[0m\u001b[1;33m[\u001b[0m\u001b[1;36m1\u001b[0m\u001b[1;33m]\u001b[0m \u001b[1;33m=\u001b[0m \u001b[0mroot\u001b[0m\u001b[1;33m[\u001b[0m\u001b[1;36m0\u001b[0m\u001b[1;33m]\u001b[0m \u001b[1;33m=\u001b[0m \u001b[0mself\u001b[0m\u001b[1;33m.\u001b[0m\u001b[0m__map\u001b[0m\u001b[1;33m[\u001b[0m\u001b[0mkey\u001b[0m\u001b[1;33m]\u001b[0m \u001b[1;33m=\u001b[0m \u001b[1;33m[\u001b[0m\u001b[0mlast\u001b[0m\u001b[1;33m,\u001b[0m \u001b[0mroot\u001b[0m\u001b[1;33m,\u001b[0m \u001b[0mkey\u001b[0m\u001b[1;33m]\u001b[0m\u001b[1;33m\u001b[0m\u001b[0m\n",
        "\u001b[0m\n"
       ]
      },
      {
       "name": "stdout",
       "output_type": "stream",
       "stream": "stdout",
       "text": [
        "ipdb> s\n"
       ]
      },
      {
       "output_type": "stream",
       "stream": "stdout",
       "text": [
        "> \u001b[1;32mc:\\python27\\lib\\collections.py\u001b[0m(66)\u001b[0;36m__setitem__\u001b[1;34m()\u001b[0m\n",
        "\u001b[1;32m     65 \u001b[1;33m            \u001b[0mlast\u001b[0m \u001b[1;33m=\u001b[0m \u001b[0mroot\u001b[0m\u001b[1;33m[\u001b[0m\u001b[1;36m0\u001b[0m\u001b[1;33m]\u001b[0m\u001b[1;33m\u001b[0m\u001b[0m\n",
        "\u001b[0m\u001b[1;32m---> 66 \u001b[1;33m            \u001b[0mlast\u001b[0m\u001b[1;33m[\u001b[0m\u001b[1;36m1\u001b[0m\u001b[1;33m]\u001b[0m \u001b[1;33m=\u001b[0m \u001b[0mroot\u001b[0m\u001b[1;33m[\u001b[0m\u001b[1;36m0\u001b[0m\u001b[1;33m]\u001b[0m \u001b[1;33m=\u001b[0m \u001b[0mself\u001b[0m\u001b[1;33m.\u001b[0m\u001b[0m__map\u001b[0m\u001b[1;33m[\u001b[0m\u001b[0mkey\u001b[0m\u001b[1;33m]\u001b[0m \u001b[1;33m=\u001b[0m \u001b[1;33m[\u001b[0m\u001b[0mlast\u001b[0m\u001b[1;33m,\u001b[0m \u001b[0mroot\u001b[0m\u001b[1;33m,\u001b[0m \u001b[0mkey\u001b[0m\u001b[1;33m]\u001b[0m\u001b[1;33m\u001b[0m\u001b[0m\n",
        "\u001b[0m\u001b[1;32m     67 \u001b[1;33m        \u001b[1;32mreturn\u001b[0m \u001b[0mdict_setitem\u001b[0m\u001b[1;33m(\u001b[0m\u001b[0mself\u001b[0m\u001b[1;33m,\u001b[0m \u001b[0mkey\u001b[0m\u001b[1;33m,\u001b[0m \u001b[0mvalue\u001b[0m\u001b[1;33m)\u001b[0m\u001b[1;33m\u001b[0m\u001b[0m\n",
        "\u001b[0m\n"
       ]
      },
      {
       "name": "stdout",
       "output_type": "stream",
       "stream": "stdout",
       "text": [
        "ipdb> s\n"
       ]
      },
      {
       "output_type": "stream",
       "stream": "stdout",
       "text": [
        "> \u001b[1;32mc:\\python27\\lib\\collections.py\u001b[0m(67)\u001b[0;36m__setitem__\u001b[1;34m()\u001b[0m\n",
        "\u001b[1;32m     66 \u001b[1;33m            \u001b[0mlast\u001b[0m\u001b[1;33m[\u001b[0m\u001b[1;36m1\u001b[0m\u001b[1;33m]\u001b[0m \u001b[1;33m=\u001b[0m \u001b[0mroot\u001b[0m\u001b[1;33m[\u001b[0m\u001b[1;36m0\u001b[0m\u001b[1;33m]\u001b[0m \u001b[1;33m=\u001b[0m \u001b[0mself\u001b[0m\u001b[1;33m.\u001b[0m\u001b[0m__map\u001b[0m\u001b[1;33m[\u001b[0m\u001b[0mkey\u001b[0m\u001b[1;33m]\u001b[0m \u001b[1;33m=\u001b[0m \u001b[1;33m[\u001b[0m\u001b[0mlast\u001b[0m\u001b[1;33m,\u001b[0m \u001b[0mroot\u001b[0m\u001b[1;33m,\u001b[0m \u001b[0mkey\u001b[0m\u001b[1;33m]\u001b[0m\u001b[1;33m\u001b[0m\u001b[0m\n",
        "\u001b[0m\u001b[1;32m---> 67 \u001b[1;33m        \u001b[1;32mreturn\u001b[0m \u001b[0mdict_setitem\u001b[0m\u001b[1;33m(\u001b[0m\u001b[0mself\u001b[0m\u001b[1;33m,\u001b[0m \u001b[0mkey\u001b[0m\u001b[1;33m,\u001b[0m \u001b[0mvalue\u001b[0m\u001b[1;33m)\u001b[0m\u001b[1;33m\u001b[0m\u001b[0m\n",
        "\u001b[0m\u001b[1;32m     68 \u001b[1;33m\u001b[1;33m\u001b[0m\u001b[0m\n",
        "\u001b[0m\n"
       ]
      },
      {
       "name": "stdout",
       "output_type": "stream",
       "stream": "stdout",
       "text": [
        "ipdb> s\n"
       ]
      },
      {
       "output_type": "stream",
       "stream": "stdout",
       "text": [
        "--Return--\n",
        "None\n",
        "> \u001b[1;32mc:\\python27\\lib\\collections.py\u001b[0m(67)\u001b[0;36m__setitem__\u001b[1;34m()\u001b[0m\n",
        "\u001b[1;32m     66 \u001b[1;33m            \u001b[0mlast\u001b[0m\u001b[1;33m[\u001b[0m\u001b[1;36m1\u001b[0m\u001b[1;33m]\u001b[0m \u001b[1;33m=\u001b[0m \u001b[0mroot\u001b[0m\u001b[1;33m[\u001b[0m\u001b[1;36m0\u001b[0m\u001b[1;33m]\u001b[0m \u001b[1;33m=\u001b[0m \u001b[0mself\u001b[0m\u001b[1;33m.\u001b[0m\u001b[0m__map\u001b[0m\u001b[1;33m[\u001b[0m\u001b[0mkey\u001b[0m\u001b[1;33m]\u001b[0m \u001b[1;33m=\u001b[0m \u001b[1;33m[\u001b[0m\u001b[0mlast\u001b[0m\u001b[1;33m,\u001b[0m \u001b[0mroot\u001b[0m\u001b[1;33m,\u001b[0m \u001b[0mkey\u001b[0m\u001b[1;33m]\u001b[0m\u001b[1;33m\u001b[0m\u001b[0m\n",
        "\u001b[0m\u001b[1;32m---> 67 \u001b[1;33m        \u001b[1;32mreturn\u001b[0m \u001b[0mdict_setitem\u001b[0m\u001b[1;33m(\u001b[0m\u001b[0mself\u001b[0m\u001b[1;33m,\u001b[0m \u001b[0mkey\u001b[0m\u001b[1;33m,\u001b[0m \u001b[0mvalue\u001b[0m\u001b[1;33m)\u001b[0m\u001b[1;33m\u001b[0m\u001b[0m\n",
        "\u001b[0m\u001b[1;32m     68 \u001b[1;33m\u001b[1;33m\u001b[0m\u001b[0m\n",
        "\u001b[0m\n"
       ]
      },
      {
       "name": "stdout",
       "output_type": "stream",
       "stream": "stdout",
       "text": [
        "ipdb> up\n"
       ]
      },
      {
       "output_type": "stream",
       "stream": "stdout",
       "text": [
        "> \u001b[1;32mc:\\users\\bake3\\workspace\\django-rest-framework-mongoengine\\rest_framework_mongoengine\\fields.py\u001b[0m(242)\u001b[0;36mto_representation\u001b[1;34m()\u001b[0m\n",
        "\u001b[1;32m    241 \u001b[1;33m            \u001b[1;32mfor\u001b[0m \u001b[0mfield_name\u001b[0m \u001b[1;32min\u001b[0m \u001b[0mself\u001b[0m\u001b[1;33m.\u001b[0m\u001b[0mchild_fields\u001b[0m\u001b[1;33m:\u001b[0m\u001b[1;33m\u001b[0m\u001b[0m\n",
        "\u001b[0m\u001b[1;32m--> 242 \u001b[1;33m                \u001b[0mret\u001b[0m\u001b[1;33m[\u001b[0m\u001b[0mfield_name\u001b[0m\u001b[1;33m]\u001b[0m \u001b[1;33m=\u001b[0m \u001b[0mself\u001b[0m\u001b[1;33m.\u001b[0m\u001b[0mchild_fields\u001b[0m\u001b[1;33m[\u001b[0m\u001b[0mfield_name\u001b[0m\u001b[1;33m]\u001b[0m\u001b[1;33m.\u001b[0m\u001b[0mto_representation\u001b[0m\u001b[1;33m(\u001b[0m\u001b[0mvalue\u001b[0m\u001b[1;33m.\u001b[0m\u001b[0m_data\u001b[0m\u001b[1;33m[\u001b[0m\u001b[0mfield_name\u001b[0m\u001b[1;33m]\u001b[0m\u001b[1;33m)\u001b[0m\u001b[1;33m\u001b[0m\u001b[0m\n",
        "\u001b[0m\u001b[1;32m    243 \u001b[1;33m            \u001b[1;32mreturn\u001b[0m \u001b[0mret\u001b[0m\u001b[1;33m\u001b[0m\u001b[0m\n",
        "\u001b[0m\n"
       ]
      },
      {
       "name": "stdout",
       "output_type": "stream",
       "stream": "stdout",
       "text": [
        "ipdb> until 241\n"
       ]
      },
      {
       "output_type": "stream",
       "stream": "stdout",
       "text": [
        "> \u001b[1;32mc:\\users\\bake3\\workspace\\django-rest-framework-mongoengine\\rest_framework_mongoengine\\fields.py\u001b[0m(243)\u001b[0;36mto_representation\u001b[1;34m()\u001b[0m\n",
        "\u001b[1;32m    242 \u001b[1;33m                \u001b[0mret\u001b[0m\u001b[1;33m[\u001b[0m\u001b[0mfield_name\u001b[0m\u001b[1;33m]\u001b[0m \u001b[1;33m=\u001b[0m \u001b[0mself\u001b[0m\u001b[1;33m.\u001b[0m\u001b[0mchild_fields\u001b[0m\u001b[1;33m[\u001b[0m\u001b[0mfield_name\u001b[0m\u001b[1;33m]\u001b[0m\u001b[1;33m.\u001b[0m\u001b[0mto_representation\u001b[0m\u001b[1;33m(\u001b[0m\u001b[0mvalue\u001b[0m\u001b[1;33m.\u001b[0m\u001b[0m_data\u001b[0m\u001b[1;33m[\u001b[0m\u001b[0mfield_name\u001b[0m\u001b[1;33m]\u001b[0m\u001b[1;33m)\u001b[0m\u001b[1;33m\u001b[0m\u001b[0m\n",
        "\u001b[0m\u001b[1;32m--> 243 \u001b[1;33m            \u001b[1;32mreturn\u001b[0m \u001b[0mret\u001b[0m\u001b[1;33m\u001b[0m\u001b[0m\n",
        "\u001b[0m\u001b[1;32m    244 \u001b[1;33m        \u001b[1;31m#else:\u001b[0m\u001b[1;33m\u001b[0m\u001b[1;33m\u001b[0m\u001b[0m\n",
        "\u001b[0m\n"
       ]
      },
      {
       "name": "stdout",
       "output_type": "stream",
       "stream": "stdout",
       "text": [
        "ipdb> ret\n"
       ]
      },
      {
       "output_type": "stream",
       "stream": "stdout",
       "text": [
        "OrderedDict([('predicate', u'parent'), ('object_rel', '54dbbafc7dafc71d3481ea9c'), ('subject_rel', '54dbbafc7dafc71d3481ea9d')])\n"
       ]
      },
      {
       "name": "stdout",
       "output_type": "stream",
       "stream": "stdout",
       "text": [
        "ipdb> s\n"
       ]
      },
      {
       "output_type": "stream",
       "stream": "stdout",
       "text": [
        "--Return--\n",
        "OrderedD...1ea9d')])\n",
        "> \u001b[1;32mc:\\users\\bake3\\workspace\\django-rest-framework-mongoengine\\rest_framework_mongoengine\\fields.py\u001b[0m(243)\u001b[0;36mto_representation\u001b[1;34m()\u001b[0m\n",
        "\u001b[1;32m    242 \u001b[1;33m                \u001b[0mret\u001b[0m\u001b[1;33m[\u001b[0m\u001b[0mfield_name\u001b[0m\u001b[1;33m]\u001b[0m \u001b[1;33m=\u001b[0m \u001b[0mself\u001b[0m\u001b[1;33m.\u001b[0m\u001b[0mchild_fields\u001b[0m\u001b[1;33m[\u001b[0m\u001b[0mfield_name\u001b[0m\u001b[1;33m]\u001b[0m\u001b[1;33m.\u001b[0m\u001b[0mto_representation\u001b[0m\u001b[1;33m(\u001b[0m\u001b[0mvalue\u001b[0m\u001b[1;33m.\u001b[0m\u001b[0m_data\u001b[0m\u001b[1;33m[\u001b[0m\u001b[0mfield_name\u001b[0m\u001b[1;33m]\u001b[0m\u001b[1;33m)\u001b[0m\u001b[1;33m\u001b[0m\u001b[0m\n",
        "\u001b[0m\u001b[1;32m--> 243 \u001b[1;33m            \u001b[1;32mreturn\u001b[0m \u001b[0mret\u001b[0m\u001b[1;33m\u001b[0m\u001b[0m\n",
        "\u001b[0m\u001b[1;32m    244 \u001b[1;33m        \u001b[1;31m#else:\u001b[0m\u001b[1;33m\u001b[0m\u001b[1;33m\u001b[0m\u001b[0m\n",
        "\u001b[0m\n"
       ]
      },
      {
       "name": "stdout",
       "output_type": "stream",
       "stream": "stdout",
       "text": [
        "ipdb> s\n"
       ]
      },
      {
       "output_type": "stream",
       "stream": "stdout",
       "text": [
        "> \u001b[1;32mc:\\users\\bake3\\workspace\\django-rest-framework-mongoengine\\rest_framework_mongoengine\\fields.py\u001b[0m(183)\u001b[0;36mto_representation\u001b[1;34m()\u001b[0m\n",
        "\u001b[1;32m    182 \u001b[1;33m    \u001b[1;32mdef\u001b[0m \u001b[0mto_representation\u001b[0m\u001b[1;33m(\u001b[0m\u001b[0mself\u001b[0m\u001b[1;33m,\u001b[0m \u001b[0mvalue\u001b[0m\u001b[1;33m)\u001b[0m\u001b[1;33m:\u001b[0m\u001b[1;33m\u001b[0m\u001b[0m\n",
        "\u001b[0m\u001b[1;32m--> 183 \u001b[1;33m        \u001b[1;32mreturn\u001b[0m \u001b[1;33m[\u001b[0m\u001b[0mself\u001b[0m\u001b[1;33m.\u001b[0m\u001b[0mnested_field\u001b[0m\u001b[1;33m.\u001b[0m\u001b[0mto_representation\u001b[0m\u001b[1;33m(\u001b[0m\u001b[0mv\u001b[0m\u001b[1;33m)\u001b[0m \u001b[1;32mfor\u001b[0m \u001b[0mv\u001b[0m \u001b[1;32min\u001b[0m \u001b[0mvalue\u001b[0m\u001b[1;33m]\u001b[0m\u001b[1;33m\u001b[0m\u001b[0m\n",
        "\u001b[0m\u001b[1;32m    184 \u001b[1;33m\u001b[1;33m\u001b[0m\u001b[0m\n",
        "\u001b[0m\n"
       ]
      },
      {
       "name": "stdout",
       "output_type": "stream",
       "stream": "stdout",
       "text": [
        "ipdb> s\n"
       ]
      },
      {
       "output_type": "stream",
       "stream": "stdout",
       "text": [
        "--Return--\n",
        "[OrderedD...1ea9d')])]\n",
        "> \u001b[1;32mc:\\users\\bake3\\workspace\\django-rest-framework-mongoengine\\rest_framework_mongoengine\\fields.py\u001b[0m(183)\u001b[0;36mto_representation\u001b[1;34m()\u001b[0m\n",
        "\u001b[1;32m    182 \u001b[1;33m    \u001b[1;32mdef\u001b[0m \u001b[0mto_representation\u001b[0m\u001b[1;33m(\u001b[0m\u001b[0mself\u001b[0m\u001b[1;33m,\u001b[0m \u001b[0mvalue\u001b[0m\u001b[1;33m)\u001b[0m\u001b[1;33m:\u001b[0m\u001b[1;33m\u001b[0m\u001b[0m\n",
        "\u001b[0m\u001b[1;32m--> 183 \u001b[1;33m        \u001b[1;32mreturn\u001b[0m \u001b[1;33m[\u001b[0m\u001b[0mself\u001b[0m\u001b[1;33m.\u001b[0m\u001b[0mnested_field\u001b[0m\u001b[1;33m.\u001b[0m\u001b[0mto_representation\u001b[0m\u001b[1;33m(\u001b[0m\u001b[0mv\u001b[0m\u001b[1;33m)\u001b[0m \u001b[1;32mfor\u001b[0m \u001b[0mv\u001b[0m \u001b[1;32min\u001b[0m \u001b[0mvalue\u001b[0m\u001b[1;33m]\u001b[0m\u001b[1;33m\u001b[0m\u001b[0m\n",
        "\u001b[0m\u001b[1;32m    184 \u001b[1;33m\u001b[1;33m\u001b[0m\u001b[0m\n",
        "\u001b[0m\n"
       ]
      },
      {
       "name": "stdout",
       "output_type": "stream",
       "stream": "stdout",
       "text": [
        "ipdb> c\n"
       ]
      }
     ],
     "prompt_number": 3
    },
    {
     "cell_type": "code",
     "collapsed": false,
     "input": [
      "from rest_framework_mongoengine.utils import get_field_info\n",
      "fr = get_field_info(Widget)\n",
      "parent = fr.fields['parent']\n",
      "parent.document_type"
     ],
     "language": "python",
     "metadata": {},
     "outputs": [
      {
       "metadata": {},
       "output_type": "pyout",
       "prompt_number": 3,
       "text": [
        "widgetapp.models.Widget"
       ]
      }
     ],
     "prompt_number": 3
    },
    {
     "cell_type": "code",
     "collapsed": false,
     "input": [
      "\n",
      "from rest_framework_mongoengine.fields import ReferenceField\n",
      "from mongoengine.fields import ReferenceField as me_ReferenceField\n",
      "from rest_framework_mongoengine.utils import get_field_info\n",
      "\n",
      "from pprint import pprint\n",
      "def oprint(ord_dict):\n",
      "    pprint(dict(ord_dict))"
     ],
     "language": "python",
     "metadata": {},
     "outputs": [],
     "prompt_number": 4
    },
    {
     "cell_type": "code",
     "collapsed": false,
     "input": [
      "widget = Widget.objects()[2]\n",
      "#print widget._fields['parent']\n",
      "ref = ReferenceField(depth=3, model_field=widget._fields['parent'])\n",
      "#print ref.model_cls\n",
      "output = ref.to_representation(widget)\n",
      "oprint(output)\n",
      "#print output['ancestors'][0]['id']"
     ],
     "language": "python",
     "metadata": {},
     "outputs": []
    },
    {
     "cell_type": "code",
     "collapsed": false,
     "input": [
      "#oprint(serializer.to_representation(c))\n",
      "import ipdb\n",
      "\n",
      "def serializerrun():\n",
      "    ref = ReferenceField(depth=1, model_field=widget._fields['parent'])\n",
      "    ref.to_representation(widget)\n",
      "\n",
      "ipdb.runcall(serializerrun)"
     ],
     "language": "python",
     "metadata": {},
     "outputs": [
      {
       "output_type": "stream",
       "stream": "stdout",
       "text": [
        "> \u001b[1;32m<ipython-input-3-8fbc83baa377>\u001b[0m(5)\u001b[0;36mserializerrun\u001b[1;34m()\u001b[0m\n",
        "\u001b[1;32m      4 \u001b[1;33m\u001b[1;32mdef\u001b[0m \u001b[0mserializerrun\u001b[0m\u001b[1;33m(\u001b[0m\u001b[1;33m)\u001b[0m\u001b[1;33m:\u001b[0m\u001b[1;33m\u001b[0m\u001b[0m\n",
        "\u001b[0m\u001b[1;32m----> 5 \u001b[1;33m    \u001b[0mref\u001b[0m \u001b[1;33m=\u001b[0m \u001b[0mReferenceField\u001b[0m\u001b[1;33m(\u001b[0m\u001b[0mdepth\u001b[0m\u001b[1;33m=\u001b[0m\u001b[1;36m1\u001b[0m\u001b[1;33m,\u001b[0m \u001b[0mmodel_field\u001b[0m\u001b[1;33m=\u001b[0m\u001b[0mwidget\u001b[0m\u001b[1;33m.\u001b[0m\u001b[0m_fields\u001b[0m\u001b[1;33m[\u001b[0m\u001b[1;34m'parent'\u001b[0m\u001b[1;33m]\u001b[0m\u001b[1;33m)\u001b[0m\u001b[1;33m\u001b[0m\u001b[0m\n",
        "\u001b[0m\u001b[1;32m      6 \u001b[1;33m    \u001b[0mref\u001b[0m\u001b[1;33m.\u001b[0m\u001b[0mto_representation\u001b[0m\u001b[1;33m(\u001b[0m\u001b[0mwidget\u001b[0m\u001b[1;33m)\u001b[0m\u001b[1;33m\u001b[0m\u001b[0m\n",
        "\u001b[0m\n"
       ]
      },
      {
       "name": "stdout",
       "output_type": "stream",
       "stream": "stdout",
       "text": [
        "ipdb> c\n"
       ]
      },
      {
       "ename": "KeyError",
       "evalue": "'some_value'",
       "output_type": "pyerr",
       "traceback": [
        "\u001b[1;31m---------------------------------------------------------------------------\u001b[0m\n\u001b[1;31mKeyError\u001b[0m                                  Traceback (most recent call last)",
        "\u001b[1;32m<ipython-input-3-8fbc83baa377>\u001b[0m in \u001b[0;36m<module>\u001b[1;34m()\u001b[0m\n\u001b[0;32m      6\u001b[0m     \u001b[0mref\u001b[0m\u001b[1;33m.\u001b[0m\u001b[0mto_representation\u001b[0m\u001b[1;33m(\u001b[0m\u001b[0mwidget\u001b[0m\u001b[1;33m)\u001b[0m\u001b[1;33m\u001b[0m\u001b[0m\n\u001b[0;32m      7\u001b[0m \u001b[1;33m\u001b[0m\u001b[0m\n\u001b[1;32m----> 8\u001b[1;33m \u001b[0mipdb\u001b[0m\u001b[1;33m.\u001b[0m\u001b[0mruncall\u001b[0m\u001b[1;33m(\u001b[0m\u001b[0mserializerrun\u001b[0m\u001b[1;33m)\u001b[0m\u001b[1;33m\u001b[0m\u001b[0m\n\u001b[0m",
        "\u001b[1;32mC:\\Users\\bake3\\workspace\\venvs\\drfme\\lib\\site-packages\\ipdb\\__main__.pyc\u001b[0m in \u001b[0;36mruncall\u001b[1;34m(*args, **kwargs)\u001b[0m\n\u001b[0;32m    114\u001b[0m \u001b[1;33m\u001b[0m\u001b[0m\n\u001b[0;32m    115\u001b[0m \u001b[1;32mdef\u001b[0m \u001b[0mruncall\u001b[0m\u001b[1;33m(\u001b[0m\u001b[1;33m*\u001b[0m\u001b[0margs\u001b[0m\u001b[1;33m,\u001b[0m \u001b[1;33m**\u001b[0m\u001b[0mkwargs\u001b[0m\u001b[1;33m)\u001b[0m\u001b[1;33m:\u001b[0m\u001b[1;33m\u001b[0m\u001b[0m\n\u001b[1;32m--> 116\u001b[1;33m     \u001b[1;32mreturn\u001b[0m \u001b[0mPdb\u001b[0m\u001b[1;33m(\u001b[0m\u001b[0mdef_colors\u001b[0m\u001b[1;33m)\u001b[0m\u001b[1;33m.\u001b[0m\u001b[0mruncall\u001b[0m\u001b[1;33m(\u001b[0m\u001b[1;33m*\u001b[0m\u001b[0margs\u001b[0m\u001b[1;33m,\u001b[0m \u001b[1;33m**\u001b[0m\u001b[0mkwargs\u001b[0m\u001b[1;33m)\u001b[0m\u001b[1;33m\u001b[0m\u001b[0m\n\u001b[0m\u001b[0;32m    117\u001b[0m \u001b[1;33m\u001b[0m\u001b[0m\n\u001b[0;32m    118\u001b[0m \u001b[1;33m\u001b[0m\u001b[0m\n",
        "\u001b[1;32mC:\\Python27\\Lib\\bdb.pyc\u001b[0m in \u001b[0;36mruncall\u001b[1;34m(self, func, *args, **kwds)\u001b[0m\n\u001b[0;32m    434\u001b[0m         \u001b[0mres\u001b[0m \u001b[1;33m=\u001b[0m \u001b[0mNone\u001b[0m\u001b[1;33m\u001b[0m\u001b[0m\n\u001b[0;32m    435\u001b[0m         \u001b[1;32mtry\u001b[0m\u001b[1;33m:\u001b[0m\u001b[1;33m\u001b[0m\u001b[0m\n\u001b[1;32m--> 436\u001b[1;33m             \u001b[0mres\u001b[0m \u001b[1;33m=\u001b[0m \u001b[0mfunc\u001b[0m\u001b[1;33m(\u001b[0m\u001b[1;33m*\u001b[0m\u001b[0margs\u001b[0m\u001b[1;33m,\u001b[0m \u001b[1;33m**\u001b[0m\u001b[0mkwds\u001b[0m\u001b[1;33m)\u001b[0m\u001b[1;33m\u001b[0m\u001b[0m\n\u001b[0m\u001b[0;32m    437\u001b[0m         \u001b[1;32mexcept\u001b[0m \u001b[0mBdbQuit\u001b[0m\u001b[1;33m:\u001b[0m\u001b[1;33m\u001b[0m\u001b[0m\n\u001b[0;32m    438\u001b[0m             \u001b[1;32mpass\u001b[0m\u001b[1;33m\u001b[0m\u001b[0m\n",
        "\u001b[1;32m<ipython-input-3-8fbc83baa377>\u001b[0m in \u001b[0;36mserializerrun\u001b[1;34m()\u001b[0m\n\u001b[0;32m      3\u001b[0m \u001b[1;33m\u001b[0m\u001b[0m\n\u001b[0;32m      4\u001b[0m \u001b[1;32mdef\u001b[0m \u001b[0mserializerrun\u001b[0m\u001b[1;33m(\u001b[0m\u001b[1;33m)\u001b[0m\u001b[1;33m:\u001b[0m\u001b[1;33m\u001b[0m\u001b[0m\n\u001b[1;32m----> 5\u001b[1;33m     \u001b[0mref\u001b[0m \u001b[1;33m=\u001b[0m \u001b[0mReferenceField\u001b[0m\u001b[1;33m(\u001b[0m\u001b[0mdepth\u001b[0m\u001b[1;33m=\u001b[0m\u001b[1;36m1\u001b[0m\u001b[1;33m,\u001b[0m \u001b[0mmodel_field\u001b[0m\u001b[1;33m=\u001b[0m\u001b[0mwidget\u001b[0m\u001b[1;33m.\u001b[0m\u001b[0m_fields\u001b[0m\u001b[1;33m[\u001b[0m\u001b[1;34m'parent'\u001b[0m\u001b[1;33m]\u001b[0m\u001b[1;33m)\u001b[0m\u001b[1;33m\u001b[0m\u001b[0m\n\u001b[0m\u001b[0;32m      6\u001b[0m     \u001b[0mref\u001b[0m\u001b[1;33m.\u001b[0m\u001b[0mto_representation\u001b[0m\u001b[1;33m(\u001b[0m\u001b[0mwidget\u001b[0m\u001b[1;33m)\u001b[0m\u001b[1;33m\u001b[0m\u001b[0m\n\u001b[0;32m      7\u001b[0m \u001b[1;33m\u001b[0m\u001b[0m\n",
        "\u001b[1;32mc:\\users\\bake3\\workspace\\django-rest-framework-mongoengine\\rest_framework_mongoengine\\fields.py\u001b[0m in \u001b[0;36mto_representation\u001b[1;34m(self, value)\u001b[0m\n\u001b[0;32m    107\u001b[0m             \u001b[0mret\u001b[0m \u001b[1;33m=\u001b[0m \u001b[0mOrderedDict\u001b[0m\u001b[1;33m(\u001b[0m\u001b[1;33m)\u001b[0m\u001b[1;33m\u001b[0m\u001b[0m\n\u001b[0;32m    108\u001b[0m             \u001b[1;32mfor\u001b[0m \u001b[0mfield_name\u001b[0m \u001b[1;32min\u001b[0m \u001b[0mvalue\u001b[0m\u001b[1;33m.\u001b[0m\u001b[0m_fields\u001b[0m\u001b[1;33m:\u001b[0m\u001b[1;33m\u001b[0m\u001b[0m\n\u001b[1;32m--> 109\u001b[1;33m                 \u001b[0mret\u001b[0m\u001b[1;33m[\u001b[0m\u001b[0mfield_name\u001b[0m\u001b[1;33m]\u001b[0m \u001b[1;33m=\u001b[0m \u001b[0mself\u001b[0m\u001b[1;33m.\u001b[0m\u001b[0mchild_fields\u001b[0m\u001b[1;33m[\u001b[0m\u001b[0mfield_name\u001b[0m\u001b[1;33m]\u001b[0m\u001b[1;33m.\u001b[0m\u001b[0mto_representation\u001b[0m\u001b[1;33m(\u001b[0m\u001b[0mgetattr\u001b[0m\u001b[1;33m(\u001b[0m\u001b[0mvalue\u001b[0m\u001b[1;33m,\u001b[0m \u001b[0mfield_name\u001b[0m\u001b[1;33m)\u001b[0m\u001b[1;33m)\u001b[0m\u001b[1;33m\u001b[0m\u001b[0m\n\u001b[0m\u001b[0;32m    110\u001b[0m             \u001b[1;32mreturn\u001b[0m \u001b[0mret\u001b[0m\u001b[1;33m\u001b[0m\u001b[0m\n\u001b[0;32m    111\u001b[0m         \u001b[1;32melse\u001b[0m\u001b[1;33m:\u001b[0m\u001b[1;33m\u001b[0m\u001b[0m\n",
        "\u001b[1;31mKeyError\u001b[0m: 'some_value'"
       ]
      }
     ],
     "prompt_number": 3
    },
    {
     "cell_type": "code",
     "collapsed": false,
     "input": [
      "\n",
      "from rest_framework_mongoengine.fields import ReferenceField\n",
      "from rest_framework import serializers\n",
      "from mongoengine.fields import ReferenceField as me_ReferenceField\n",
      "from mongoengine.fields import StringField as me_StringField\n",
      "\n",
      "from django.db.models import TextField as dj_TextField\n",
      "from rest_framework_mongoengine.utils import get_field_info"
     ],
     "language": "python",
     "metadata": {},
     "outputs": [
      {
       "metadata": {},
       "output_type": "pyout",
       "prompt_number": 9,
       "text": [
        "mongoengine.fields.StringField"
       ]
      }
     ],
     "prompt_number": 9
    },
    {
     "cell_type": "code",
     "collapsed": false,
     "input": [
      "\n",
      "from rest_framework_mongoengine.utils import get_field_info\n",
      "get_field_info(Component)"
     ],
     "language": "python",
     "metadata": {},
     "outputs": [
      {
       "metadata": {},
       "output_type": "pyout",
       "prompt_number": 8,
       "text": [
        "FieldResult(pk=None, fields=OrderedDict([('name', <mongoengine.fields.StringField object at 0x04F18570>), ('some_thing', <mongoengine.fields.ReferenceField object at 0x04F185F0>)]), forward_relations=OrderedDict(), reverse_relations=OrderedDict(), fields_and_pk=OrderedDict([('pk', None), ('name', <mongoengine.fields.StringField object at 0x04F18570>), ('some_thing', <mongoengine.fields.ReferenceField object at 0x04F185F0>)]), relations=OrderedDict())"
       ]
      }
     ],
     "prompt_number": 8
    },
    {
     "cell_type": "code",
     "collapsed": false,
     "input": [
      "%pdb 0\n",
      "from bson import DBRef, ObjectId\n",
      "\n",
      "a = ObjectId(\"foo\")\n"
     ],
     "language": "python",
     "metadata": {},
     "outputs": [
      {
       "output_type": "stream",
       "stream": "stdout",
       "text": [
        "Automatic pdb calling has been turned OFF\n"
       ]
      },
      {
       "ename": "InvalidId",
       "evalue": "'foo' is not a valid ObjectId, it must be a 12-byte input of type 'str' or a 24-character hex string",
       "output_type": "pyerr",
       "traceback": [
        "\u001b[1;31m---------------------------------------------------------------------------\u001b[0m\n\u001b[1;31mInvalidId\u001b[0m                                 Traceback (most recent call last)",
        "\u001b[1;32m<ipython-input-12-d691bb56d133>\u001b[0m in \u001b[0;36m<module>\u001b[1;34m()\u001b[0m\n\u001b[0;32m      2\u001b[0m \u001b[1;32mfrom\u001b[0m \u001b[0mbson\u001b[0m \u001b[1;32mimport\u001b[0m \u001b[0mDBRef\u001b[0m\u001b[1;33m,\u001b[0m \u001b[0mObjectId\u001b[0m\u001b[1;33m\u001b[0m\u001b[0m\n\u001b[0;32m      3\u001b[0m \u001b[1;33m\u001b[0m\u001b[0m\n\u001b[1;32m----> 4\u001b[1;33m \u001b[0ma\u001b[0m \u001b[1;33m=\u001b[0m \u001b[0mObjectId\u001b[0m\u001b[1;33m(\u001b[0m\u001b[1;34m\"foo\"\u001b[0m\u001b[1;33m)\u001b[0m\u001b[1;33m\u001b[0m\u001b[0m\n\u001b[0m",
        "\u001b[1;32mC:\\Users\\bake3\\workspace\\venvs\\drfme\\lib\\site-packages\\bson\\objectid.pyc\u001b[0m in \u001b[0;36m__init__\u001b[1;34m(self, oid)\u001b[0m\n\u001b[0;32m    119\u001b[0m             \u001b[0mself\u001b[0m\u001b[1;33m.\u001b[0m\u001b[0m__generate\u001b[0m\u001b[1;33m(\u001b[0m\u001b[1;33m)\u001b[0m\u001b[1;33m\u001b[0m\u001b[0m\n\u001b[0;32m    120\u001b[0m         \u001b[1;32melse\u001b[0m\u001b[1;33m:\u001b[0m\u001b[1;33m\u001b[0m\u001b[0m\n\u001b[1;32m--> 121\u001b[1;33m             \u001b[0mself\u001b[0m\u001b[1;33m.\u001b[0m\u001b[0m__validate\u001b[0m\u001b[1;33m(\u001b[0m\u001b[0moid\u001b[0m\u001b[1;33m)\u001b[0m\u001b[1;33m\u001b[0m\u001b[0m\n\u001b[0m\u001b[0;32m    122\u001b[0m \u001b[1;33m\u001b[0m\u001b[0m\n\u001b[0;32m    123\u001b[0m     \u001b[1;33m@\u001b[0m\u001b[0mclassmethod\u001b[0m\u001b[1;33m\u001b[0m\u001b[0m\n",
        "\u001b[1;32mC:\\Users\\bake3\\workspace\\venvs\\drfme\\lib\\site-packages\\bson\\objectid.pyc\u001b[0m in \u001b[0;36m__validate\u001b[1;34m(self, oid)\u001b[0m\n\u001b[0;32m    226\u001b[0m                     \u001b[0m_raise_invalid_id\u001b[0m\u001b[1;33m(\u001b[0m\u001b[0moid\u001b[0m\u001b[1;33m)\u001b[0m\u001b[1;33m\u001b[0m\u001b[0m\n\u001b[0;32m    227\u001b[0m             \u001b[1;32melse\u001b[0m\u001b[1;33m:\u001b[0m\u001b[1;33m\u001b[0m\u001b[0m\n\u001b[1;32m--> 228\u001b[1;33m                 \u001b[0m_raise_invalid_id\u001b[0m\u001b[1;33m(\u001b[0m\u001b[0moid\u001b[0m\u001b[1;33m)\u001b[0m\u001b[1;33m\u001b[0m\u001b[0m\n\u001b[0m\u001b[0;32m    229\u001b[0m         \u001b[1;32melse\u001b[0m\u001b[1;33m:\u001b[0m\u001b[1;33m\u001b[0m\u001b[0m\n\u001b[0;32m    230\u001b[0m             raise TypeError(\"id must be an instance of (%s, %s, ObjectId), \"\n",
        "\u001b[1;32mC:\\Users\\bake3\\workspace\\venvs\\drfme\\lib\\site-packages\\bson\\objectid.pyc\u001b[0m in \u001b[0;36m_raise_invalid_id\u001b[1;34m(oid)\u001b[0m\n\u001b[0;32m     59\u001b[0m         \u001b[1;34m\"%r is not a valid ObjectId, it must be a 12-byte input\"\u001b[0m\u001b[1;33m\u001b[0m\u001b[0m\n\u001b[0;32m     60\u001b[0m         \" of type %r or a 24-character hex string\" % (\n\u001b[1;32m---> 61\u001b[1;33m             oid, binary_type.__name__))\n\u001b[0m\u001b[0;32m     62\u001b[0m \u001b[1;33m\u001b[0m\u001b[0m\n\u001b[0;32m     63\u001b[0m \u001b[1;33m\u001b[0m\u001b[0m\n",
        "\u001b[1;31mInvalidId\u001b[0m: 'foo' is not a valid ObjectId, it must be a 12-byte input of type 'str' or a 24-character hex string"
       ]
      }
     ],
     "prompt_number": 12
    },
    {
     "cell_type": "code",
     "collapsed": false,
     "input": [
      "l = u\"['54d3d26c7dafc7153019a8fd', '54d3d26c7dafc7153019a8fc']\""
     ],
     "language": "python",
     "metadata": {},
     "outputs": [],
     "prompt_number": 3
    },
    {
     "cell_type": "code",
     "collapsed": false,
     "input": [
      "l"
     ],
     "language": "python",
     "metadata": {},
     "outputs": [
      {
       "metadata": {},
       "output_type": "pyout",
       "prompt_number": 5,
       "text": [
        "u\"['54d3d26c7dafc7153019a8fd', '54d3d26c7dafc7153019a8fc']\""
       ]
      }
     ],
     "prompt_number": 5
    },
    {
     "cell_type": "code",
     "collapsed": false,
     "input": [],
     "language": "python",
     "metadata": {},
     "outputs": []
    }
   ],
   "metadata": {}
  }
 ]
}