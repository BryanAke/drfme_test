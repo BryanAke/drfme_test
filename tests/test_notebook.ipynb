{
 "cells": [
  {
   "cell_type": "code",
   "execution_count": 1,
   "metadata": {
    "collapsed": false
   },
   "outputs": [],
   "source": [
    "import warnings\n",
    "warnings.filterwarnings('ignore', category=UserWarning)\n",
    "warnings.filterwarnings('ignore', category=DeprecationWarning)\n",
    "\n",
    "import sys\n",
    "sys.path.append('/var/cortex')\n",
    "\n",
    "from django.conf import settings\n",
    "try:\n",
    "    settings.configure()\n",
    "except:\n",
    "    pass\n",
    "import drfme_test.settings\n",
    "from widgetapp.models import Widget, SpecialWidget, Thing, Vehicle, Truck, Car, Mileage, StupidMileage, Semi\n",
    "from rest_framework.utils.serializer_helpers import BindingDict\n",
    "from rest_framework_mongoengine.utils import PolymorphicChainMap\n",
    "from widgetapp.api import VehicleSerializer, CarSerializer, TruckSerializer"
   ]
  },
  {
   "cell_type": "code",
   "execution_count": null,
   "metadata": {
    "collapsed": false
   },
   "outputs": [],
   "source": [
    "#clear the widgets.\n",
    "Widget.objects.delete()\n",
    "Thing.objects.delete()"
   ]
  },
  {
   "cell_type": "code",
   "execution_count": null,
   "metadata": {
    "collapsed": false
   },
   "outputs": [],
   "source": [
    "a = Widget()\n",
    "a.name = \"Root Widget.\"\n",
    "a.save()\n",
    "\n",
    "b = Widget()\n",
    "b.name = \"Special!\"\n",
    "b.save()\n",
    "b.set_parent(a)\n",
    "b.set_ancestors()\n",
    "b.save()"
   ]
  },
  {
   "cell_type": "code",
   "execution_count": null,
   "metadata": {
    "collapsed": false
   },
   "outputs": [],
   "source": [
    "all_widgets = Widget.objects()\n",
    "[w for w in all_widgets]"
   ]
  },
  {
   "cell_type": "code",
   "execution_count": null,
   "metadata": {
    "collapsed": false
   },
   "outputs": [],
   "source": [
    "c = SpecialWidget()\n",
    "c.name = \"another snowflake\"\n",
    "c.save()\n",
    "c.set_parent(b)\n",
    "c.set_ancestors()\n",
    "c.save()\n",
    "\n",
    "c.ancestors"
   ]
  },
  {
   "cell_type": "code",
   "execution_count": null,
   "metadata": {
    "collapsed": false
   },
   "outputs": [],
   "source": [
    "thingProp = ThingProps()\n",
    "thingProp.value_one = \"A value or another value.\"\n",
    "thingProp.value_two = \"A value or something. 2\"\n",
    "thingProp.value_three = 42\n",
    "\n",
    "thingProp1 = ThingProps()\n",
    "thingProp1.value_one = \"ValueThing\"\n",
    "thingProp1.value_two = \"ValueThang2\"\n",
    "thingProp1.value_three = 43\n",
    "\n",
    "thing = Thing(name=\"Thing One\", some_values=thingProp)\n",
    "thing2 = Thing(name=\"Thing Two\", some_values=thingProp1)\n",
    "\n",
    "comp1 = Component(name=\"Component One\", some_thing=thing)\n",
    "comp2 = Component(name=\"Component Two\", some_thing=thing2)\n",
    "\n",
    "thing.save()\n",
    "thing2.save()\n",
    "\n",
    "c.components.append(comp1)\n",
    "c.components.append(comp2)\n",
    "c.save()\n"
   ]
  },
  {
   "cell_type": "code",
   "execution_count": null,
   "metadata": {
    "collapsed": false
   },
   "outputs": [],
   "source": [
    "c.dyn_value = comp1\n",
    "c.save()"
   ]
  },
  {
   "cell_type": "code",
   "execution_count": null,
   "metadata": {
    "collapsed": false
   },
   "outputs": [],
   "source": [
    "thing.testmap = {'foo': comp1, 'bar': a, 'baz': 'aaa', 'baq': 5}\n",
    "thing.save()"
   ]
  },
  {
   "cell_type": "code",
   "execution_count": null,
   "metadata": {
    "collapsed": false
   },
   "outputs": [],
   "source": [
    "t = Thing.objects()[0]\n",
    "t.testmap['foo'] = 42\n",
    "t.save()\n",
    "\n",
    "t.testmap"
   ]
  },
  {
   "cell_type": "code",
   "execution_count": null,
   "metadata": {
    "collapsed": false
   },
   "outputs": [],
   "source": [
    "%pdb 1\n",
    "\n",
    "from pprint import pprint\n",
    "from collections import OrderedDict\n",
    "\n",
    "import json\n",
    "    \n",
    "widget = Widget.objects()[2]\n",
    "\n",
    "from widgetapp.api import *\n",
    "serializer = WidgetSerializer()"
   ]
  },
  {
   "cell_type": "code",
   "execution_count": null,
   "metadata": {
    "collapsed": false
   },
   "outputs": [],
   "source": [
    "serializer.Meta.depth = 0\n",
    "output = serializer.to_representation(widget)\n",
    "print (json.dumps(output, indent=4))"
   ]
  },
  {
   "cell_type": "code",
   "execution_count": null,
   "metadata": {
    "collapsed": false
   },
   "outputs": [],
   "source": [
    "#oprint(serializer.to_representation(widget))\n",
    "import ipdb\n",
    "\n",
    "def serializerrun():\n",
    "    serializer.to_representation(widget)\n",
    "\n",
    "ipdb.runcall(serializerrun)"
   ]
  },
  {
   "cell_type": "code",
   "execution_count": null,
   "metadata": {
    "collapsed": false
   },
   "outputs": [],
   "source": [
    "from rest_framework_mongoengine.utils import get_field_info\n",
    "fr = get_field_info(Widget)\n",
    "parent = fr.fields['parent']\n",
    "parent.document_type"
   ]
  },
  {
   "cell_type": "code",
   "execution_count": null,
   "metadata": {
    "collapsed": false
   },
   "outputs": [],
   "source": [
    "\n",
    "from rest_framework_mongoengine.fields import ReferenceField\n",
    "from mongoengine.fields import ReferenceField as me_ReferenceField\n",
    "from rest_framework_mongoengine.utils import get_field_info\n",
    "\n",
    "from pprint import pprint\n",
    "def oprint(ord_dict):\n",
    "    pprint(dict(ord_dict))"
   ]
  },
  {
   "cell_type": "code",
   "execution_count": null,
   "metadata": {
    "collapsed": false
   },
   "outputs": [],
   "source": [
    "widget = Widget.objects()[2]\n",
    "#print widget._fields['parent']\n",
    "ref = ReferenceField(depth=3, model_field=widget._fields['parent'])\n",
    "#print ref.model_cls\n",
    "output = ref.to_representation(widget)\n",
    "oprint(output)\n",
    "#print output['ancestors'][0]['id']"
   ]
  },
  {
   "cell_type": "code",
   "execution_count": null,
   "metadata": {
    "collapsed": false
   },
   "outputs": [],
   "source": [
    "#oprint(serializer.to_representation(c))\n",
    "import ipdb\n",
    "\n",
    "def serializerrun():\n",
    "    ref = ReferenceField(depth=1, model_field=widget._fields['parent'])\n",
    "    ref.to_representation(widget)\n",
    "\n",
    "ipdb.runcall(serializerrun)"
   ]
  },
  {
   "cell_type": "code",
   "execution_count": null,
   "metadata": {
    "collapsed": false
   },
   "outputs": [],
   "source": [
    "\n",
    "from rest_framework_mongoengine.fields import ReferenceField\n",
    "from rest_framework import serializers\n",
    "from mongoengine.fields import ReferenceField as me_ReferenceField\n",
    "from mongoengine.fields import ListField as me_ListField"
   ]
  },
  {
   "cell_type": "code",
   "execution_count": null,
   "metadata": {
    "collapsed": false
   },
   "outputs": [],
   "source": [
    "lst = me_ListField(me_ReferenceField(\"Widget\"))\n",
    "ref = me_ReferenceField(\"Widget\")"
   ]
  },
  {
   "cell_type": "code",
   "execution_count": null,
   "metadata": {
    "collapsed": false
   },
   "outputs": [],
   "source": [
    "from widgetapp.models import Mileage"
   ]
  },
  {
   "cell_type": "code",
   "execution_count": null,
   "metadata": {
    "collapsed": false
   },
   "outputs": [],
   "source": [
    "t = Truck.objects.first()"
   ]
  },
  {
   "cell_type": "code",
   "execution_count": null,
   "metadata": {
    "collapsed": false
   },
   "outputs": [],
   "source": [
    "m = Mileage()\n",
    "m.loaded = 10\n",
    "m.unloaded = 15\n",
    "t.mpg = m\n",
    "t.save()"
   ]
  },
  {
   "cell_type": "code",
   "execution_count": 2,
   "metadata": {
    "collapsed": true
   },
   "outputs": [],
   "source": [
    "t = Truck()\n"
   ]
  },
  {
   "cell_type": "code",
   "execution_count": null,
   "metadata": {
    "collapsed": false
   },
   "outputs": [],
   "source": [
    "sm = StupidMileage()\n",
    "sm.loaded = Widget.objects.first()\n",
    "sm.unloaded = \"Dinosaur\"\n",
    "t.mpg = sm\n",
    "t.name = \"something else\"\n",
    "t.manufacturer = Widget.objects.first()\n",
    "t.weight = 5\n",
    "t.save()"
   ]
  },
  {
   "cell_type": "code",
   "execution_count": null,
   "metadata": {
    "collapsed": false
   },
   "outputs": [],
   "source": [
    "c.name = \"nb\"\n",
    "c.mpg = 10\n",
    "c.manufacturer = \"test\"\n",
    "c.weight = 90\n",
    "c.save()"
   ]
  },
  {
   "cell_type": "code",
   "execution_count": null,
   "metadata": {
    "collapsed": false
   },
   "outputs": [],
   "source": [
    "Car._fields, Vehicle._fields"
   ]
  },
  {
   "cell_type": "code",
   "execution_count": null,
   "metadata": {
    "collapsed": false
   },
   "outputs": [],
   "source": [
    "[(key, f) for key, f  in Truck._fields.items() if f not in Car._fields.values()]"
   ]
  },
  {
   "cell_type": "code",
   "execution_count": 3,
   "metadata": {
    "collapsed": false
   },
   "outputs": [
    {
     "data": {
      "text/plain": [
       "<Semi: Semi object>"
      ]
     },
     "execution_count": 3,
     "metadata": {},
     "output_type": "execute_result"
    }
   ],
   "source": [
    "t = Semi()\n",
    "t.mpg = StupidMileage()\n",
    "t.mpg.loaded = Widget.objects.first()\n",
    "t.mpg.unloaded = \"potato\"\n",
    "t.mpg.helium = 1\n",
    "t.name = \"stupid test\"\n",
    "t.manufacturer = Widget.objects.first()\n",
    "t.volume = 10\n",
    "t.weight = 5\n",
    "t.save()"
   ]
  },
  {
   "cell_type": "code",
   "execution_count": 23,
   "metadata": {
    "collapsed": false
   },
   "outputs": [],
   "source": [
    "vs = VehicleSerializer()\n",
    "c = PolymorphicChainMap(vs)"
   ]
  },
  {
   "cell_type": "code",
   "execution_count": 29,
   "metadata": {
    "collapsed": false
   },
   "outputs": [
    {
     "data": {
      "text/plain": [
       "EmbeddedDocumentField(depth=5, model_field=<mongoengine.fields.EmbeddedDocumentField object>, required=False)"
      ]
     },
     "execution_count": 29,
     "metadata": {},
     "output_type": "execute_result"
    }
   ],
   "source": [
    "c[Truck]['mpg']"
   ]
  },
  {
   "cell_type": "code",
   "execution_count": null,
   "metadata": {
    "collapsed": false
   },
   "outputs": [],
   "source": [
    "c[Vehicle]['manufacturer'] is c[Truck]['manufacturer']"
   ]
  },
  {
   "cell_type": "code",
   "execution_count": 21,
   "metadata": {
    "collapsed": false,
    "scrolled": true
   },
   "outputs": [
    {
     "data": {
      "text/plain": [
       "(object,\n",
       " mongoengine.base.document.BaseDocument,\n",
       " mongoengine.document.Document,\n",
       " widgetapp.models.Vehicle,\n",
       " widgetapp.models.Car)"
      ]
     },
     "execution_count": 21,
     "metadata": {},
     "output_type": "execute_result"
    }
   ],
   "source": [
    "import inspect\n",
    "inspect.getmro(Car)[::-1]"
   ]
  },
  {
   "cell_type": "code",
   "execution_count": 14,
   "metadata": {
    "collapsed": false
   },
   "outputs": [
    {
     "data": {
      "text/plain": [
       "<mongoengine.fields.StringField at 0x3985530>"
      ]
     },
     "execution_count": 14,
     "metadata": {},
     "output_type": "execute_result"
    }
   ],
   "source": [
    "Car.name"
   ]
  },
  {
   "cell_type": "code",
   "execution_count": 42,
   "metadata": {
    "collapsed": true
   },
   "outputs": [],
   "source": [
    "vs = VehicleSerializer()\n",
    "c = PolymorphicChainMap(vs, Mileage)"
   ]
  },
  {
   "cell_type": "code",
   "execution_count": 3,
   "metadata": {
    "collapsed": false
   },
   "outputs": [],
   "source": [
    "d = {\n",
    "        \"name\": \"Foo\",\n",
    "        \"_cls\": \"Vehicle\",\n",
    "        \"id\": \"55d336967dafc7299478d399\",\n",
    "        \"weight\": 123,\n",
    "        \"manufacturer\": \"asdf\"\n",
    "    }\n",
    "v = Widget._from_son(d)"
   ]
  },
  {
   "cell_type": "code",
   "execution_count": 6,
   "metadata": {
    "collapsed": false
   },
   "outputs": [],
   "source": [
    "del v.id"
   ]
  },
  {
   "cell_type": "code",
   "execution_count": 7,
   "metadata": {
    "collapsed": false
   },
   "outputs": [
    {
     "data": {
      "text/plain": [
       "<Vehicle: Vehicle object>"
      ]
     },
     "execution_count": 7,
     "metadata": {},
     "output_type": "execute_result"
    }
   ],
   "source": [
    "v"
   ]
  },
  {
   "cell_type": "code",
   "execution_count": 8,
   "metadata": {
    "collapsed": false
   },
   "outputs": [
    {
     "data": {
      "text/plain": [
       "<Vehicle: Vehicle object>"
      ]
     },
     "execution_count": 8,
     "metadata": {},
     "output_type": "execute_result"
    }
   ],
   "source": [
    "v.save()"
   ]
  },
  {
   "cell_type": "code",
   "execution_count": 10,
   "metadata": {
    "collapsed": false
   },
   "outputs": [
    {
     "data": {
      "text/plain": [
       "ObjectId('55d625567dafc719e42edf80')"
      ]
     },
     "execution_count": 10,
     "metadata": {},
     "output_type": "execute_result"
    }
   ],
   "source": [
    "v.id"
   ]
  },
  {
   "cell_type": "code",
   "execution_count": null,
   "metadata": {
    "collapsed": true
   },
   "outputs": [],
   "source": []
  }
 ],
 "metadata": {
  "kernelspec": {
   "display_name": "Python 2",
   "language": "python",
   "name": "python2"
  },
  "language_info": {
   "codemirror_mode": {
    "name": "ipython",
    "version": 2
   },
   "file_extension": ".py",
   "mimetype": "text/x-python",
   "name": "python",
   "nbconvert_exporter": "python",
   "pygments_lexer": "ipython2",
   "version": "2.7.9"
  }
 },
 "nbformat": 4,
 "nbformat_minor": 0
}
